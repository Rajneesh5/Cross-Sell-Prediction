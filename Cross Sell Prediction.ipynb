{
 "cells": [
  {
   "cell_type": "code",
   "execution_count": 3,
   "metadata": {},
   "outputs": [],
   "source": [
    "import numpy as np\n",
    "import pandas as pd\n",
    "import matplotlib.pyplot as plt\n",
    "import seaborn as sns"
   ]
  },
  {
   "cell_type": "code",
   "execution_count": 4,
   "metadata": {},
   "outputs": [],
   "source": [
    "df_train=pd.read_csv('train.csv')"
   ]
  },
  {
   "cell_type": "code",
   "execution_count": 5,
   "metadata": {},
   "outputs": [],
   "source": [
    "df_test=pd.read_csv('test.csv')"
   ]
  },
  {
   "cell_type": "code",
   "execution_count": 6,
   "metadata": {},
   "outputs": [],
   "source": [
    "sample_sub=pd.read_csv('sample_submission.csv')"
   ]
  },
  {
   "cell_type": "code",
   "execution_count": 7,
   "metadata": {},
   "outputs": [
    {
     "data": {
      "text/html": [
       "<div>\n",
       "<style scoped>\n",
       "    .dataframe tbody tr th:only-of-type {\n",
       "        vertical-align: middle;\n",
       "    }\n",
       "\n",
       "    .dataframe tbody tr th {\n",
       "        vertical-align: top;\n",
       "    }\n",
       "\n",
       "    .dataframe thead th {\n",
       "        text-align: right;\n",
       "    }\n",
       "</style>\n",
       "<table border=\"1\" class=\"dataframe\">\n",
       "  <thead>\n",
       "    <tr style=\"text-align: right;\">\n",
       "      <th></th>\n",
       "      <th>id</th>\n",
       "      <th>Gender</th>\n",
       "      <th>Age</th>\n",
       "      <th>Driving_License</th>\n",
       "      <th>Region_Code</th>\n",
       "      <th>Previously_Insured</th>\n",
       "      <th>Vehicle_Age</th>\n",
       "      <th>Vehicle_Damage</th>\n",
       "      <th>Annual_Premium</th>\n",
       "      <th>Policy_Sales_Channel</th>\n",
       "      <th>Vintage</th>\n",
       "      <th>Response</th>\n",
       "    </tr>\n",
       "  </thead>\n",
       "  <tbody>\n",
       "    <tr>\n",
       "      <td>0</td>\n",
       "      <td>1</td>\n",
       "      <td>Male</td>\n",
       "      <td>44</td>\n",
       "      <td>1</td>\n",
       "      <td>28.0</td>\n",
       "      <td>0</td>\n",
       "      <td>&gt; 2 Years</td>\n",
       "      <td>Yes</td>\n",
       "      <td>40454.0</td>\n",
       "      <td>26.0</td>\n",
       "      <td>217</td>\n",
       "      <td>1</td>\n",
       "    </tr>\n",
       "    <tr>\n",
       "      <td>1</td>\n",
       "      <td>2</td>\n",
       "      <td>Male</td>\n",
       "      <td>76</td>\n",
       "      <td>1</td>\n",
       "      <td>3.0</td>\n",
       "      <td>0</td>\n",
       "      <td>1-2 Year</td>\n",
       "      <td>No</td>\n",
       "      <td>33536.0</td>\n",
       "      <td>26.0</td>\n",
       "      <td>183</td>\n",
       "      <td>0</td>\n",
       "    </tr>\n",
       "    <tr>\n",
       "      <td>2</td>\n",
       "      <td>3</td>\n",
       "      <td>Male</td>\n",
       "      <td>47</td>\n",
       "      <td>1</td>\n",
       "      <td>28.0</td>\n",
       "      <td>0</td>\n",
       "      <td>&gt; 2 Years</td>\n",
       "      <td>Yes</td>\n",
       "      <td>38294.0</td>\n",
       "      <td>26.0</td>\n",
       "      <td>27</td>\n",
       "      <td>1</td>\n",
       "    </tr>\n",
       "    <tr>\n",
       "      <td>3</td>\n",
       "      <td>4</td>\n",
       "      <td>Male</td>\n",
       "      <td>21</td>\n",
       "      <td>1</td>\n",
       "      <td>11.0</td>\n",
       "      <td>1</td>\n",
       "      <td>&lt; 1 Year</td>\n",
       "      <td>No</td>\n",
       "      <td>28619.0</td>\n",
       "      <td>152.0</td>\n",
       "      <td>203</td>\n",
       "      <td>0</td>\n",
       "    </tr>\n",
       "    <tr>\n",
       "      <td>4</td>\n",
       "      <td>5</td>\n",
       "      <td>Female</td>\n",
       "      <td>29</td>\n",
       "      <td>1</td>\n",
       "      <td>41.0</td>\n",
       "      <td>1</td>\n",
       "      <td>&lt; 1 Year</td>\n",
       "      <td>No</td>\n",
       "      <td>27496.0</td>\n",
       "      <td>152.0</td>\n",
       "      <td>39</td>\n",
       "      <td>0</td>\n",
       "    </tr>\n",
       "  </tbody>\n",
       "</table>\n",
       "</div>"
      ],
      "text/plain": [
       "   id  Gender  Age  Driving_License  Region_Code  Previously_Insured  \\\n",
       "0   1    Male   44                1         28.0                   0   \n",
       "1   2    Male   76                1          3.0                   0   \n",
       "2   3    Male   47                1         28.0                   0   \n",
       "3   4    Male   21                1         11.0                   1   \n",
       "4   5  Female   29                1         41.0                   1   \n",
       "\n",
       "  Vehicle_Age Vehicle_Damage  Annual_Premium  Policy_Sales_Channel  Vintage  \\\n",
       "0   > 2 Years            Yes         40454.0                  26.0      217   \n",
       "1    1-2 Year             No         33536.0                  26.0      183   \n",
       "2   > 2 Years            Yes         38294.0                  26.0       27   \n",
       "3    < 1 Year             No         28619.0                 152.0      203   \n",
       "4    < 1 Year             No         27496.0                 152.0       39   \n",
       "\n",
       "   Response  \n",
       "0         1  \n",
       "1         0  \n",
       "2         1  \n",
       "3         0  \n",
       "4         0  "
      ]
     },
     "execution_count": 7,
     "metadata": {},
     "output_type": "execute_result"
    }
   ],
   "source": [
    "df_train.head()"
   ]
  },
  {
   "cell_type": "code",
   "execution_count": 8,
   "metadata": {},
   "outputs": [
    {
     "data": {
      "text/html": [
       "<div>\n",
       "<style scoped>\n",
       "    .dataframe tbody tr th:only-of-type {\n",
       "        vertical-align: middle;\n",
       "    }\n",
       "\n",
       "    .dataframe tbody tr th {\n",
       "        vertical-align: top;\n",
       "    }\n",
       "\n",
       "    .dataframe thead th {\n",
       "        text-align: right;\n",
       "    }\n",
       "</style>\n",
       "<table border=\"1\" class=\"dataframe\">\n",
       "  <thead>\n",
       "    <tr style=\"text-align: right;\">\n",
       "      <th></th>\n",
       "      <th>id</th>\n",
       "      <th>Gender</th>\n",
       "      <th>Age</th>\n",
       "      <th>Driving_License</th>\n",
       "      <th>Region_Code</th>\n",
       "      <th>Previously_Insured</th>\n",
       "      <th>Vehicle_Age</th>\n",
       "      <th>Vehicle_Damage</th>\n",
       "      <th>Annual_Premium</th>\n",
       "      <th>Policy_Sales_Channel</th>\n",
       "      <th>Vintage</th>\n",
       "    </tr>\n",
       "  </thead>\n",
       "  <tbody>\n",
       "    <tr>\n",
       "      <td>0</td>\n",
       "      <td>381110</td>\n",
       "      <td>Male</td>\n",
       "      <td>25</td>\n",
       "      <td>1</td>\n",
       "      <td>11.0</td>\n",
       "      <td>1</td>\n",
       "      <td>&lt; 1 Year</td>\n",
       "      <td>No</td>\n",
       "      <td>35786.0</td>\n",
       "      <td>152.0</td>\n",
       "      <td>53</td>\n",
       "    </tr>\n",
       "    <tr>\n",
       "      <td>1</td>\n",
       "      <td>381111</td>\n",
       "      <td>Male</td>\n",
       "      <td>40</td>\n",
       "      <td>1</td>\n",
       "      <td>28.0</td>\n",
       "      <td>0</td>\n",
       "      <td>1-2 Year</td>\n",
       "      <td>Yes</td>\n",
       "      <td>33762.0</td>\n",
       "      <td>7.0</td>\n",
       "      <td>111</td>\n",
       "    </tr>\n",
       "    <tr>\n",
       "      <td>2</td>\n",
       "      <td>381112</td>\n",
       "      <td>Male</td>\n",
       "      <td>47</td>\n",
       "      <td>1</td>\n",
       "      <td>28.0</td>\n",
       "      <td>0</td>\n",
       "      <td>1-2 Year</td>\n",
       "      <td>Yes</td>\n",
       "      <td>40050.0</td>\n",
       "      <td>124.0</td>\n",
       "      <td>199</td>\n",
       "    </tr>\n",
       "    <tr>\n",
       "      <td>3</td>\n",
       "      <td>381113</td>\n",
       "      <td>Male</td>\n",
       "      <td>24</td>\n",
       "      <td>1</td>\n",
       "      <td>27.0</td>\n",
       "      <td>1</td>\n",
       "      <td>&lt; 1 Year</td>\n",
       "      <td>Yes</td>\n",
       "      <td>37356.0</td>\n",
       "      <td>152.0</td>\n",
       "      <td>187</td>\n",
       "    </tr>\n",
       "    <tr>\n",
       "      <td>4</td>\n",
       "      <td>381114</td>\n",
       "      <td>Male</td>\n",
       "      <td>27</td>\n",
       "      <td>1</td>\n",
       "      <td>28.0</td>\n",
       "      <td>1</td>\n",
       "      <td>&lt; 1 Year</td>\n",
       "      <td>No</td>\n",
       "      <td>59097.0</td>\n",
       "      <td>152.0</td>\n",
       "      <td>297</td>\n",
       "    </tr>\n",
       "  </tbody>\n",
       "</table>\n",
       "</div>"
      ],
      "text/plain": [
       "       id Gender  Age  Driving_License  Region_Code  Previously_Insured  \\\n",
       "0  381110   Male   25                1         11.0                   1   \n",
       "1  381111   Male   40                1         28.0                   0   \n",
       "2  381112   Male   47                1         28.0                   0   \n",
       "3  381113   Male   24                1         27.0                   1   \n",
       "4  381114   Male   27                1         28.0                   1   \n",
       "\n",
       "  Vehicle_Age Vehicle_Damage  Annual_Premium  Policy_Sales_Channel  Vintage  \n",
       "0    < 1 Year             No         35786.0                 152.0       53  \n",
       "1    1-2 Year            Yes         33762.0                   7.0      111  \n",
       "2    1-2 Year            Yes         40050.0                 124.0      199  \n",
       "3    < 1 Year            Yes         37356.0                 152.0      187  \n",
       "4    < 1 Year             No         59097.0                 152.0      297  "
      ]
     },
     "execution_count": 8,
     "metadata": {},
     "output_type": "execute_result"
    }
   ],
   "source": [
    "df_test.head()"
   ]
  },
  {
   "cell_type": "code",
   "execution_count": 9,
   "metadata": {},
   "outputs": [
    {
     "data": {
      "text/html": [
       "<div>\n",
       "<style scoped>\n",
       "    .dataframe tbody tr th:only-of-type {\n",
       "        vertical-align: middle;\n",
       "    }\n",
       "\n",
       "    .dataframe tbody tr th {\n",
       "        vertical-align: top;\n",
       "    }\n",
       "\n",
       "    .dataframe thead th {\n",
       "        text-align: right;\n",
       "    }\n",
       "</style>\n",
       "<table border=\"1\" class=\"dataframe\">\n",
       "  <thead>\n",
       "    <tr style=\"text-align: right;\">\n",
       "      <th></th>\n",
       "      <th>id</th>\n",
       "      <th>Response</th>\n",
       "    </tr>\n",
       "  </thead>\n",
       "  <tbody>\n",
       "    <tr>\n",
       "      <td>127032</td>\n",
       "      <td>508142</td>\n",
       "      <td>0</td>\n",
       "    </tr>\n",
       "    <tr>\n",
       "      <td>127033</td>\n",
       "      <td>508143</td>\n",
       "      <td>0</td>\n",
       "    </tr>\n",
       "    <tr>\n",
       "      <td>127034</td>\n",
       "      <td>508144</td>\n",
       "      <td>0</td>\n",
       "    </tr>\n",
       "    <tr>\n",
       "      <td>127035</td>\n",
       "      <td>508145</td>\n",
       "      <td>0</td>\n",
       "    </tr>\n",
       "    <tr>\n",
       "      <td>127036</td>\n",
       "      <td>508146</td>\n",
       "      <td>0</td>\n",
       "    </tr>\n",
       "  </tbody>\n",
       "</table>\n",
       "</div>"
      ],
      "text/plain": [
       "            id  Response\n",
       "127032  508142         0\n",
       "127033  508143         0\n",
       "127034  508144         0\n",
       "127035  508145         0\n",
       "127036  508146         0"
      ]
     },
     "execution_count": 9,
     "metadata": {},
     "output_type": "execute_result"
    }
   ],
   "source": [
    "sample_sub.tail()"
   ]
  },
  {
   "cell_type": "code",
   "execution_count": 10,
   "metadata": {},
   "outputs": [
    {
     "name": "stdout",
     "output_type": "stream",
     "text": [
      "<class 'pandas.core.frame.DataFrame'>\n",
      "RangeIndex: 381109 entries, 0 to 381108\n",
      "Data columns (total 12 columns):\n",
      "id                      381109 non-null int64\n",
      "Gender                  381109 non-null object\n",
      "Age                     381109 non-null int64\n",
      "Driving_License         381109 non-null int64\n",
      "Region_Code             381109 non-null float64\n",
      "Previously_Insured      381109 non-null int64\n",
      "Vehicle_Age             381109 non-null object\n",
      "Vehicle_Damage          381109 non-null object\n",
      "Annual_Premium          381109 non-null float64\n",
      "Policy_Sales_Channel    381109 non-null float64\n",
      "Vintage                 381109 non-null int64\n",
      "Response                381109 non-null int64\n",
      "dtypes: float64(3), int64(6), object(3)\n",
      "memory usage: 34.9+ MB\n"
     ]
    }
   ],
   "source": [
    "df_train.info()"
   ]
  },
  {
   "cell_type": "code",
   "execution_count": 11,
   "metadata": {},
   "outputs": [
    {
     "data": {
      "text/plain": [
       "id                      0\n",
       "Gender                  0\n",
       "Age                     0\n",
       "Driving_License         0\n",
       "Region_Code             0\n",
       "Previously_Insured      0\n",
       "Vehicle_Age             0\n",
       "Vehicle_Damage          0\n",
       "Annual_Premium          0\n",
       "Policy_Sales_Channel    0\n",
       "Vintage                 0\n",
       "Response                0\n",
       "dtype: int64"
      ]
     },
     "execution_count": 11,
     "metadata": {},
     "output_type": "execute_result"
    }
   ],
   "source": [
    "df_train.isnull().sum()"
   ]
  },
  {
   "cell_type": "code",
   "execution_count": 12,
   "metadata": {},
   "outputs": [
    {
     "name": "stdout",
     "output_type": "stream",
     "text": [
      "<class 'pandas.core.frame.DataFrame'>\n",
      "RangeIndex: 127037 entries, 0 to 127036\n",
      "Data columns (total 11 columns):\n",
      "id                      127037 non-null int64\n",
      "Gender                  127037 non-null object\n",
      "Age                     127037 non-null int64\n",
      "Driving_License         127037 non-null int64\n",
      "Region_Code             127037 non-null float64\n",
      "Previously_Insured      127037 non-null int64\n",
      "Vehicle_Age             127037 non-null object\n",
      "Vehicle_Damage          127037 non-null object\n",
      "Annual_Premium          127037 non-null float64\n",
      "Policy_Sales_Channel    127037 non-null float64\n",
      "Vintage                 127037 non-null int64\n",
      "dtypes: float64(3), int64(5), object(3)\n",
      "memory usage: 10.7+ MB\n"
     ]
    }
   ],
   "source": [
    "df_test.info()"
   ]
  },
  {
   "cell_type": "code",
   "execution_count": 13,
   "metadata": {},
   "outputs": [
    {
     "data": {
      "text/plain": [
       "id                      0\n",
       "Gender                  0\n",
       "Age                     0\n",
       "Driving_License         0\n",
       "Region_Code             0\n",
       "Previously_Insured      0\n",
       "Vehicle_Age             0\n",
       "Vehicle_Damage          0\n",
       "Annual_Premium          0\n",
       "Policy_Sales_Channel    0\n",
       "Vintage                 0\n",
       "dtype: int64"
      ]
     },
     "execution_count": 13,
     "metadata": {},
     "output_type": "execute_result"
    }
   ],
   "source": [
    "df_test.isnull().sum()"
   ]
  },
  {
   "cell_type": "code",
   "execution_count": 14,
   "metadata": {},
   "outputs": [
    {
     "data": {
      "text/html": [
       "<div>\n",
       "<style scoped>\n",
       "    .dataframe tbody tr th:only-of-type {\n",
       "        vertical-align: middle;\n",
       "    }\n",
       "\n",
       "    .dataframe tbody tr th {\n",
       "        vertical-align: top;\n",
       "    }\n",
       "\n",
       "    .dataframe thead th {\n",
       "        text-align: right;\n",
       "    }\n",
       "</style>\n",
       "<table border=\"1\" class=\"dataframe\">\n",
       "  <thead>\n",
       "    <tr style=\"text-align: right;\">\n",
       "      <th></th>\n",
       "      <th>count</th>\n",
       "      <th>mean</th>\n",
       "      <th>std</th>\n",
       "      <th>min</th>\n",
       "      <th>25%</th>\n",
       "      <th>50%</th>\n",
       "      <th>75%</th>\n",
       "      <th>max</th>\n",
       "    </tr>\n",
       "  </thead>\n",
       "  <tbody>\n",
       "    <tr>\n",
       "      <td>id</td>\n",
       "      <td>381109.0</td>\n",
       "      <td>190555.000000</td>\n",
       "      <td>110016.836208</td>\n",
       "      <td>1.0</td>\n",
       "      <td>95278.0</td>\n",
       "      <td>190555.0</td>\n",
       "      <td>285832.0</td>\n",
       "      <td>381109.0</td>\n",
       "    </tr>\n",
       "    <tr>\n",
       "      <td>Age</td>\n",
       "      <td>381109.0</td>\n",
       "      <td>38.822584</td>\n",
       "      <td>15.511611</td>\n",
       "      <td>20.0</td>\n",
       "      <td>25.0</td>\n",
       "      <td>36.0</td>\n",
       "      <td>49.0</td>\n",
       "      <td>85.0</td>\n",
       "    </tr>\n",
       "    <tr>\n",
       "      <td>Driving_License</td>\n",
       "      <td>381109.0</td>\n",
       "      <td>0.997869</td>\n",
       "      <td>0.046110</td>\n",
       "      <td>0.0</td>\n",
       "      <td>1.0</td>\n",
       "      <td>1.0</td>\n",
       "      <td>1.0</td>\n",
       "      <td>1.0</td>\n",
       "    </tr>\n",
       "    <tr>\n",
       "      <td>Region_Code</td>\n",
       "      <td>381109.0</td>\n",
       "      <td>26.388807</td>\n",
       "      <td>13.229888</td>\n",
       "      <td>0.0</td>\n",
       "      <td>15.0</td>\n",
       "      <td>28.0</td>\n",
       "      <td>35.0</td>\n",
       "      <td>52.0</td>\n",
       "    </tr>\n",
       "    <tr>\n",
       "      <td>Previously_Insured</td>\n",
       "      <td>381109.0</td>\n",
       "      <td>0.458210</td>\n",
       "      <td>0.498251</td>\n",
       "      <td>0.0</td>\n",
       "      <td>0.0</td>\n",
       "      <td>0.0</td>\n",
       "      <td>1.0</td>\n",
       "      <td>1.0</td>\n",
       "    </tr>\n",
       "    <tr>\n",
       "      <td>Annual_Premium</td>\n",
       "      <td>381109.0</td>\n",
       "      <td>30564.389581</td>\n",
       "      <td>17213.155057</td>\n",
       "      <td>2630.0</td>\n",
       "      <td>24405.0</td>\n",
       "      <td>31669.0</td>\n",
       "      <td>39400.0</td>\n",
       "      <td>540165.0</td>\n",
       "    </tr>\n",
       "    <tr>\n",
       "      <td>Policy_Sales_Channel</td>\n",
       "      <td>381109.0</td>\n",
       "      <td>112.034295</td>\n",
       "      <td>54.203995</td>\n",
       "      <td>1.0</td>\n",
       "      <td>29.0</td>\n",
       "      <td>133.0</td>\n",
       "      <td>152.0</td>\n",
       "      <td>163.0</td>\n",
       "    </tr>\n",
       "    <tr>\n",
       "      <td>Vintage</td>\n",
       "      <td>381109.0</td>\n",
       "      <td>154.347397</td>\n",
       "      <td>83.671304</td>\n",
       "      <td>10.0</td>\n",
       "      <td>82.0</td>\n",
       "      <td>154.0</td>\n",
       "      <td>227.0</td>\n",
       "      <td>299.0</td>\n",
       "    </tr>\n",
       "    <tr>\n",
       "      <td>Response</td>\n",
       "      <td>381109.0</td>\n",
       "      <td>0.122563</td>\n",
       "      <td>0.327936</td>\n",
       "      <td>0.0</td>\n",
       "      <td>0.0</td>\n",
       "      <td>0.0</td>\n",
       "      <td>0.0</td>\n",
       "      <td>1.0</td>\n",
       "    </tr>\n",
       "  </tbody>\n",
       "</table>\n",
       "</div>"
      ],
      "text/plain": [
       "                         count           mean            std     min      25%  \\\n",
       "id                    381109.0  190555.000000  110016.836208     1.0  95278.0   \n",
       "Age                   381109.0      38.822584      15.511611    20.0     25.0   \n",
       "Driving_License       381109.0       0.997869       0.046110     0.0      1.0   \n",
       "Region_Code           381109.0      26.388807      13.229888     0.0     15.0   \n",
       "Previously_Insured    381109.0       0.458210       0.498251     0.0      0.0   \n",
       "Annual_Premium        381109.0   30564.389581   17213.155057  2630.0  24405.0   \n",
       "Policy_Sales_Channel  381109.0     112.034295      54.203995     1.0     29.0   \n",
       "Vintage               381109.0     154.347397      83.671304    10.0     82.0   \n",
       "Response              381109.0       0.122563       0.327936     0.0      0.0   \n",
       "\n",
       "                           50%       75%       max  \n",
       "id                    190555.0  285832.0  381109.0  \n",
       "Age                       36.0      49.0      85.0  \n",
       "Driving_License            1.0       1.0       1.0  \n",
       "Region_Code               28.0      35.0      52.0  \n",
       "Previously_Insured         0.0       1.0       1.0  \n",
       "Annual_Premium         31669.0   39400.0  540165.0  \n",
       "Policy_Sales_Channel     133.0     152.0     163.0  \n",
       "Vintage                  154.0     227.0     299.0  \n",
       "Response                   0.0       0.0       1.0  "
      ]
     },
     "execution_count": 14,
     "metadata": {},
     "output_type": "execute_result"
    }
   ],
   "source": [
    "df_train.describe().transpose()"
   ]
  },
  {
   "cell_type": "code",
   "execution_count": 15,
   "metadata": {},
   "outputs": [
    {
     "data": {
      "text/plain": [
       "1-2 Year     200316\n",
       "< 1 Year     164786\n",
       "> 2 Years     16007\n",
       "Name: Vehicle_Age, dtype: int64"
      ]
     },
     "execution_count": 15,
     "metadata": {},
     "output_type": "execute_result"
    }
   ],
   "source": [
    "df_train.Vehicle_Age.value_counts()"
   ]
  },
  {
   "cell_type": "code",
   "execution_count": 16,
   "metadata": {},
   "outputs": [],
   "source": [
    "veh_age={'< 1 Year':0,'1-2 Year':1,'> 2 Years':2}"
   ]
  },
  {
   "cell_type": "code",
   "execution_count": 17,
   "metadata": {},
   "outputs": [
    {
     "name": "stderr",
     "output_type": "stream",
     "text": [
      "C:\\Users\\Rajneesh\\Anaconda3\\lib\\site-packages\\ipykernel_launcher.py:1: FutureWarning: Sorting because non-concatenation axis is not aligned. A future version\n",
      "of pandas will change to not sort by default.\n",
      "\n",
      "To accept the future behavior, pass 'sort=False'.\n",
      "\n",
      "To retain the current behavior and silence the warning, pass 'sort=True'.\n",
      "\n",
      "  \"\"\"Entry point for launching an IPython kernel.\n"
     ]
    }
   ],
   "source": [
    "df=pd.concat([df_train,df_test])"
   ]
  },
  {
   "cell_type": "code",
   "execution_count": 18,
   "metadata": {},
   "outputs": [],
   "source": [
    "df['Vehicle_Age']=df['Vehicle_Age'].apply(lambda x:veh_age[x])"
   ]
  },
  {
   "cell_type": "code",
   "execution_count": 19,
   "metadata": {},
   "outputs": [
    {
     "data": {
      "text/plain": [
       "Yes    256248\n",
       "No     251898\n",
       "Name: Vehicle_Damage, dtype: int64"
      ]
     },
     "execution_count": 19,
     "metadata": {},
     "output_type": "execute_result"
    }
   ],
   "source": [
    "df['Vehicle_Damage'].value_counts()"
   ]
  },
  {
   "cell_type": "code",
   "execution_count": 20,
   "metadata": {},
   "outputs": [],
   "source": [
    "veh_dummies=pd.get_dummies(df['Vehicle_Damage'])"
   ]
  },
  {
   "cell_type": "code",
   "execution_count": 21,
   "metadata": {},
   "outputs": [],
   "source": [
    "df.drop('Vehicle_Damage',axis=1,inplace=True)\n",
    "df=pd.concat([df,veh_dummies],axis=1)"
   ]
  },
  {
   "cell_type": "code",
   "execution_count": 22,
   "metadata": {},
   "outputs": [],
   "source": [
    "gen_dummy=pd.get_dummies(df['Gender'])"
   ]
  },
  {
   "cell_type": "code",
   "execution_count": 23,
   "metadata": {},
   "outputs": [],
   "source": [
    "df.drop('Gender',axis=1,inplace=True)\n",
    "df=pd.concat([df,gen_dummy],axis=1)"
   ]
  },
  {
   "cell_type": "code",
   "execution_count": 24,
   "metadata": {},
   "outputs": [
    {
     "name": "stdout",
     "output_type": "stream",
     "text": [
      "<class 'pandas.core.frame.DataFrame'>\n",
      "Int64Index: 508146 entries, 0 to 127036\n",
      "Data columns (total 14 columns):\n",
      "Age                     508146 non-null int64\n",
      "Annual_Premium          508146 non-null float64\n",
      "Driving_License         508146 non-null int64\n",
      "Policy_Sales_Channel    508146 non-null float64\n",
      "Previously_Insured      508146 non-null int64\n",
      "Region_Code             508146 non-null float64\n",
      "Response                381109 non-null float64\n",
      "Vehicle_Age             508146 non-null int64\n",
      "Vintage                 508146 non-null int64\n",
      "id                      508146 non-null int64\n",
      "No                      508146 non-null uint8\n",
      "Yes                     508146 non-null uint8\n",
      "Female                  508146 non-null uint8\n",
      "Male                    508146 non-null uint8\n",
      "dtypes: float64(4), int64(6), uint8(4)\n",
      "memory usage: 44.6 MB\n"
     ]
    }
   ],
   "source": [
    "df.info()"
   ]
  },
  {
   "cell_type": "code",
   "execution_count": 25,
   "metadata": {},
   "outputs": [],
   "source": [
    "df_train=df[df['id']<381110]"
   ]
  },
  {
   "cell_type": "code",
   "execution_count": 26,
   "metadata": {},
   "outputs": [],
   "source": [
    "df_test=df[df['id']>=381110]"
   ]
  },
  {
   "cell_type": "code",
   "execution_count": 27,
   "metadata": {},
   "outputs": [
    {
     "name": "stderr",
     "output_type": "stream",
     "text": [
      "C:\\Users\\Rajneesh\\Anaconda3\\lib\\site-packages\\pandas\\core\\frame.py:4102: SettingWithCopyWarning: \n",
      "A value is trying to be set on a copy of a slice from a DataFrame\n",
      "\n",
      "See the caveats in the documentation: http://pandas.pydata.org/pandas-docs/stable/user_guide/indexing.html#returning-a-view-versus-a-copy\n",
      "  errors=errors,\n"
     ]
    }
   ],
   "source": [
    "df_train.drop('id',axis=1,inplace=True)"
   ]
  },
  {
   "cell_type": "code",
   "execution_count": 28,
   "metadata": {},
   "outputs": [],
   "source": [
    "df_test.drop('id',axis=1,inplace=True)"
   ]
  },
  {
   "cell_type": "code",
   "execution_count": 29,
   "metadata": {},
   "outputs": [
    {
     "data": {
      "text/plain": [
       "<matplotlib.axes._subplots.AxesSubplot at 0x2032c184548>"
      ]
     },
     "execution_count": 29,
     "metadata": {},
     "output_type": "execute_result"
    },
    {
     "data": {
      "image/png": "[encoded data removed]",
      "text/plain": [
       "<Figure size 432x288 with 1 Axes>"
      ]
     },
     "metadata": {
      "needs_background": "light"
     },
     "output_type": "display_data"
    }
   ],
   "source": [
    "sns.countplot(df_train['Response'])"
   ]
  },
  {
   "cell_type": "code",
   "execution_count": 30,
   "metadata": {},
   "outputs": [
    {
     "data": {
      "text/plain": [
       "12.256336113815207"
      ]
     },
     "execution_count": 30,
     "metadata": {},
     "output_type": "execute_result"
    }
   ],
   "source": [
    "df_train['Response'].value_counts()[1]*100/len(df_train['Response'])"
   ]
  },
  {
   "cell_type": "code",
   "execution_count": 31,
   "metadata": {},
   "outputs": [
    {
     "data": {
      "text/plain": [
       "<matplotlib.axes._subplots.AxesSubplot at 0x2032c9d7bc8>"
      ]
     },
     "execution_count": 31,
     "metadata": {},
     "output_type": "execute_result"
    },
    {
     "data": {
      "image/png": "[encoded data removed]",
      "text/plain": [
       "<Figure size 432x288 with 1 Axes>"
      ]
     },
     "metadata": {
      "needs_background": "light"
     },
     "output_type": "display_data"
    }
   ],
   "source": [
    "sns.barplot(df_train['Response'],y=df_train['Male'])"
   ]
  },
  {
   "cell_type": "markdown",
   "metadata": {},
   "source": [
    "Here \"Yes\" is whether  Customer got his/her vehicle damaged in the past or not. It is an important one as it will tell us how was the customer's experience with the company"
   ]
  },
  {
   "cell_type": "code",
   "execution_count": 32,
   "metadata": {},
   "outputs": [
    {
     "data": {
      "text/plain": [
       "<matplotlib.axes._subplots.AxesSubplot at 0x2032d42bdc8>"
      ]
     },
     "execution_count": 32,
     "metadata": {},
     "output_type": "execute_result"
    },
    {
     "data": {
      "image/png": "[encoded data removed]",
      "text/plain": [
       "<Figure size 432x288 with 1 Axes>"
      ]
     },
     "metadata": {
      "needs_background": "light"
     },
     "output_type": "display_data"
    }
   ],
   "source": [
    "sns.barplot(df_train['Response'],df_train['Yes'])"
   ]
  },
  {
   "cell_type": "code",
   "execution_count": 33,
   "metadata": {},
   "outputs": [
    {
     "data": {
      "text/plain": [
       "<matplotlib.axes._subplots.AxesSubplot at 0x2032c9e6708>"
      ]
     },
     "execution_count": 33,
     "metadata": {},
     "output_type": "execute_result"
    },
    {
     "data": {
      "image/png": "[encoded data removed]",
      "text/plain": [
       "<Figure size 432x288 with 1 Axes>"
      ]
     },
     "metadata": {
      "needs_background": "light"
     },
     "output_type": "display_data"
    }
   ],
   "source": [
    "df_train.corr()['Response'].sort_values()[:-1].plot(kind='bar')"
   ]
  },
  {
   "cell_type": "code",
   "execution_count": 34,
   "metadata": {},
   "outputs": [
    {
     "data": {
      "text/plain": [
       "<matplotlib.axes._subplots.AxesSubplot at 0x2032d52b908>"
      ]
     },
     "execution_count": 34,
     "metadata": {},
     "output_type": "execute_result"
    },
    {
     "data": {
      "image/png": "[encoded data removed]",
      "text/plain": [
       "<Figure size 864x432 with 1 Axes>"
      ]
     },
     "metadata": {
      "needs_background": "light"
     },
     "output_type": "display_data"
    }
   ],
   "source": [
    "plt.figure(figsize=(12,6))\n",
    "sns.distplot(df_train['Annual_Premium'],kde=False)"
   ]
  },
  {
   "cell_type": "code",
   "execution_count": 35,
   "metadata": {},
   "outputs": [
    {
     "data": {
      "text/plain": [
       "count    508146.000000\n",
       "mean      30554.453041\n",
       "std       17146.574625\n",
       "min        2630.000000\n",
       "25%       24381.000000\n",
       "50%       31661.000000\n",
       "75%       39403.750000\n",
       "max      540165.000000\n",
       "Name: Annual_Premium, dtype: float64"
      ]
     },
     "execution_count": 35,
     "metadata": {},
     "output_type": "execute_result"
    }
   ],
   "source": [
    "df['Annual_Premium'].describe()"
   ]
  },
  {
   "cell_type": "code",
   "execution_count": 36,
   "metadata": {},
   "outputs": [
    {
     "data": {
      "text/plain": [
       "<matplotlib.axes._subplots.AxesSubplot at 0x2032e181cc8>"
      ]
     },
     "execution_count": 36,
     "metadata": {},
     "output_type": "execute_result"
    },
    {
     "data": {
      "image/png": "[encoded data removed]",
      "text/plain": [
       "<Figure size 432x288 with 1 Axes>"
      ]
     },
     "metadata": {
      "needs_background": "light"
     },
     "output_type": "display_data"
    }
   ],
   "source": [
    "sns.countplot(df['Response'],hue=df['Yes'])"
   ]
  },
  {
   "cell_type": "code",
   "execution_count": 37,
   "metadata": {},
   "outputs": [
    {
     "data": {
      "text/plain": [
       "<seaborn.axisgrid.FacetGrid at 0x2032d615d88>"
      ]
     },
     "execution_count": 37,
     "metadata": {},
     "output_type": "execute_result"
    },
    {
     "data": {
      "image/png": "[encoded data removed]",
      "text/plain": [
       "<Figure size 416.25x360 with 1 Axes>"
      ]
     },
     "metadata": {
      "needs_background": "light"
     },
     "output_type": "display_data"
    }
   ],
   "source": [
    "sns.catplot(\"Yes\", hue=\"Response\", data=df_train, kind=\"count\",palette={1:\"grey\", 0:\"black\"})"
   ]
  },
  {
   "cell_type": "code",
   "execution_count": 38,
   "metadata": {},
   "outputs": [
    {
     "data": {
      "text/plain": [
       "<matplotlib.axes._subplots.AxesSubplot at 0x2032d602bc8>"
      ]
     },
     "execution_count": 38,
     "metadata": {},
     "output_type": "execute_result"
    },
    {
     "data": {
      "image/png": "[encoded data removed]",
      "text/plain": [
       "<Figure size 432x288 with 1 Axes>"
      ]
     },
     "metadata": {
      "needs_background": "light"
     },
     "output_type": "display_data"
    }
   ],
   "source": [
    "sns.boxplot(y=df_train['Age'],x=df_train['Response'])"
   ]
  },
  {
   "cell_type": "code",
   "execution_count": 39,
   "metadata": {},
   "outputs": [],
   "source": [
    "from sklearn.model_selection import train_test_split"
   ]
  },
  {
   "cell_type": "code",
   "execution_count": 40,
   "metadata": {},
   "outputs": [],
   "source": [
    "X=df_train.drop('Response',axis=1)\n",
    "y=df_train['Response']"
   ]
  },
  {
   "cell_type": "code",
   "execution_count": 41,
   "metadata": {},
   "outputs": [],
   "source": [
    "from sklearn.model_selection import cross_val_score"
   ]
  },
  {
   "cell_type": "code",
   "execution_count": 42,
   "metadata": {},
   "outputs": [],
   "source": [
    "from sklearn.linear_model import LogisticRegression"
   ]
  },
  {
   "cell_type": "code",
   "execution_count": 43,
   "metadata": {},
   "outputs": [],
   "source": [
    "lr=LogisticRegression()"
   ]
  },
  {
   "cell_type": "code",
   "execution_count": 44,
   "metadata": {},
   "outputs": [
    {
     "name": "stderr",
     "output_type": "stream",
     "text": [
      "C:\\Users\\Rajneesh\\Anaconda3\\lib\\site-packages\\sklearn\\linear_model\\_logistic.py:764: ConvergenceWarning: lbfgs failed to converge (status=1):\n",
      "STOP: TOTAL NO. of ITERATIONS REACHED LIMIT.\n",
      "\n",
      "Increase the number of iterations (max_iter) or scale the data as shown in:\n",
      "    https://scikit-learn.org/stable/modules/preprocessing.html\n",
      "Please also refer to the documentation for alternative solver options:\n",
      "    https://scikit-learn.org/stable/modules/linear_model.html#logistic-regression\n",
      "  extra_warning_msg=_LOGISTIC_SOLVER_CONVERGENCE_MSG)\n",
      "C:\\Users\\Rajneesh\\Anaconda3\\lib\\site-packages\\sklearn\\linear_model\\_logistic.py:764: ConvergenceWarning: lbfgs failed to converge (status=1):\n",
      "STOP: TOTAL NO. of ITERATIONS REACHED LIMIT.\n",
      "\n",
      "Increase the number of iterations (max_iter) or scale the data as shown in:\n",
      "    https://scikit-learn.org/stable/modules/preprocessing.html\n",
      "Please also refer to the documentation for alternative solver options:\n",
      "    https://scikit-learn.org/stable/modules/linear_model.html#logistic-regression\n",
      "  extra_warning_msg=_LOGISTIC_SOLVER_CONVERGENCE_MSG)\n",
      "C:\\Users\\Rajneesh\\Anaconda3\\lib\\site-packages\\sklearn\\linear_model\\_logistic.py:764: ConvergenceWarning: lbfgs failed to converge (status=1):\n",
      "STOP: TOTAL NO. of ITERATIONS REACHED LIMIT.\n",
      "\n",
      "Increase the number of iterations (max_iter) or scale the data as shown in:\n",
      "    https://scikit-learn.org/stable/modules/preprocessing.html\n",
      "Please also refer to the documentation for alternative solver options:\n",
      "    https://scikit-learn.org/stable/modules/linear_model.html#logistic-regression\n",
      "  extra_warning_msg=_LOGISTIC_SOLVER_CONVERGENCE_MSG)\n"
     ]
    },
    {
     "data": {
      "text/plain": [
       "array([0.59593446, 0.63469416, 0.82269196, 0.63723348, 0.68957435])"
      ]
     },
     "execution_count": 44,
     "metadata": {},
     "output_type": "execute_result"
    }
   ],
   "source": [
    "cross_val_score(lr,X,y,scoring='roc_auc')"
   ]
  },
  {
   "cell_type": "markdown",
   "metadata": {},
   "source": [
    "# Random Forest Classifier - Best ROC_AUC Score"
   ]
  },
  {
   "cell_type": "code",
   "execution_count": 45,
   "metadata": {},
   "outputs": [],
   "source": [
    "from sklearn.ensemble import RandomForestClassifier"
   ]
  },
  {
   "cell_type": "code",
   "execution_count": 46,
   "metadata": {},
   "outputs": [],
   "source": [
    "clf=RandomForestClassifier()"
   ]
  },
  {
   "cell_type": "code",
   "execution_count": 47,
   "metadata": {},
   "outputs": [
    {
     "data": {
      "text/plain": [
       "RandomForestClassifier()"
      ]
     },
     "execution_count": 47,
     "metadata": {},
     "output_type": "execute_result"
    }
   ],
   "source": [
    "clf.fit(X,y)"
   ]
  },
  {
   "cell_type": "code",
   "execution_count": 48,
   "metadata": {},
   "outputs": [
    {
     "data": {
      "text/plain": [
       "array([0.83394577, 0.83429096, 0.83191221, 0.83389771, 0.83117881])"
      ]
     },
     "execution_count": 48,
     "metadata": {},
     "output_type": "execute_result"
    }
   ],
   "source": [
    "cross_val_score(clf,X,y,scoring='roc_auc')"
   ]
  },
  {
   "cell_type": "code",
   "execution_count": 49,
   "metadata": {},
   "outputs": [],
   "source": [
    "rfc=RandomForestClassifier(n_estimators=289,\n",
    " min_samples_split=4,\n",
    " min_samples_leaf=9,\n",
    " max_features='auto',\n",
    " max_depth= 71,\n",
    " bootstrap='True')"
   ]
  },
  {
   "cell_type": "code",
   "execution_count": 50,
   "metadata": {},
   "outputs": [
    {
     "data": {
      "text/plain": [
       "array([0.85496899, 0.85471058, 0.85277721, 0.85348821, 0.85204416])"
      ]
     },
     "execution_count": 50,
     "metadata": {},
     "output_type": "execute_result"
    }
   ],
   "source": [
    "cross_val_score(rfc,X,y,scoring='roc_auc')"
   ]
  },
  {
   "cell_type": "code",
   "execution_count": 51,
   "metadata": {},
   "outputs": [],
   "source": [
    "from sklearn.model_selection import cross_val_predict"
   ]
  },
  {
   "cell_type": "code",
   "execution_count": 52,
   "metadata": {},
   "outputs": [
    {
     "data": {
      "text/plain": [
       "RandomForestClassifier(bootstrap='True', max_depth=71, min_samples_leaf=9,\n",
       "                       min_samples_split=4, n_estimators=289)"
      ]
     },
     "execution_count": 52,
     "metadata": {},
     "output_type": "execute_result"
    }
   ],
   "source": [
    "rfc.fit(X,y)"
   ]
  },
  {
   "cell_type": "code",
   "execution_count": 53,
   "metadata": {},
   "outputs": [],
   "source": [
    "predictions=rfc.predict(df_test.drop('Response',axis=1))"
   ]
  },
  {
   "cell_type": "code",
   "execution_count": 54,
   "metadata": {},
   "outputs": [],
   "source": [
    "sample_sub['Response']=pd.Series(predictions)"
   ]
  },
  {
   "cell_type": "code",
   "execution_count": 55,
   "metadata": {},
   "outputs": [
    {
     "data": {
      "text/plain": [
       "0.0    126561\n",
       "1.0       476\n",
       "Name: Response, dtype: int64"
      ]
     },
     "execution_count": 55,
     "metadata": {},
     "output_type": "execute_result"
    }
   ],
   "source": [
    "sample_sub['Response'].value_counts()"
   ]
  },
  {
   "cell_type": "code",
   "execution_count": 128,
   "metadata": {},
   "outputs": [],
   "source": [
    "pred=rfc.predict_proba(df_test.drop('Response',axis=1))"
   ]
  },
  {
   "cell_type": "code",
   "execution_count": null,
   "metadata": {},
   "outputs": [],
   "source": []
  },
  {
   "cell_type": "code",
   "execution_count": null,
   "metadata": {},
   "outputs": [],
   "source": []
  },
  {
   "cell_type": "code",
   "execution_count": 138,
   "metadata": {},
   "outputs": [],
   "source": [
    "abc=pred[:,1]"
   ]
  },
  {
   "cell_type": "code",
   "execution_count": 139,
   "metadata": {},
   "outputs": [],
   "source": [
    "sample_sub['Response']=pd.Series(abc)"
   ]
  },
  {
   "cell_type": "code",
   "execution_count": 141,
   "metadata": {},
   "outputs": [],
   "source": [
    "sample_sub.to_csv('sub_again.csv',index=False)"
   ]
  },
  {
   "cell_type": "markdown",
   "metadata": {},
   "source": [
    "# Logistic Regression with SMOTE"
   ]
  },
  {
   "cell_type": "code",
   "execution_count": 57,
   "metadata": {},
   "outputs": [],
   "source": [
    "from sklearn.metrics import roc_auc_score"
   ]
  },
  {
   "cell_type": "code",
   "execution_count": 58,
   "metadata": {},
   "outputs": [],
   "source": [
    "from imblearn.over_sampling import SMOTE"
   ]
  },
  {
   "cell_type": "code",
   "execution_count": 59,
   "metadata": {},
   "outputs": [],
   "source": [
    "X_sm=df_train.drop('Response',axis=1)\n",
    "y_sm=df_train['Response']"
   ]
  },
  {
   "cell_type": "code",
   "execution_count": 60,
   "metadata": {},
   "outputs": [],
   "source": [
    "sm=SMOTE()"
   ]
  },
  {
   "cell_type": "code",
   "execution_count": 62,
   "metadata": {},
   "outputs": [],
   "source": [
    "X_sm,y_sm=sm.fit_sample(X_sm,y_sm)"
   ]
  },
  {
   "cell_type": "code",
   "execution_count": 63,
   "metadata": {},
   "outputs": [
    {
     "name": "stderr",
     "output_type": "stream",
     "text": [
      "C:\\Users\\Rajneesh\\Anaconda3\\lib\\site-packages\\sklearn\\linear_model\\_logistic.py:764: ConvergenceWarning: lbfgs failed to converge (status=1):\n",
      "STOP: TOTAL NO. of ITERATIONS REACHED LIMIT.\n",
      "\n",
      "Increase the number of iterations (max_iter) or scale the data as shown in:\n",
      "    https://scikit-learn.org/stable/modules/preprocessing.html\n",
      "Please also refer to the documentation for alternative solver options:\n",
      "    https://scikit-learn.org/stable/modules/linear_model.html#logistic-regression\n",
      "  extra_warning_msg=_LOGISTIC_SOLVER_CONVERGENCE_MSG)\n",
      "C:\\Users\\Rajneesh\\Anaconda3\\lib\\site-packages\\sklearn\\linear_model\\_logistic.py:764: ConvergenceWarning: lbfgs failed to converge (status=1):\n",
      "STOP: TOTAL NO. of ITERATIONS REACHED LIMIT.\n",
      "\n",
      "Increase the number of iterations (max_iter) or scale the data as shown in:\n",
      "    https://scikit-learn.org/stable/modules/preprocessing.html\n",
      "Please also refer to the documentation for alternative solver options:\n",
      "    https://scikit-learn.org/stable/modules/linear_model.html#logistic-regression\n",
      "  extra_warning_msg=_LOGISTIC_SOLVER_CONVERGENCE_MSG)\n",
      "C:\\Users\\Rajneesh\\Anaconda3\\lib\\site-packages\\sklearn\\linear_model\\_logistic.py:764: ConvergenceWarning: lbfgs failed to converge (status=1):\n",
      "STOP: TOTAL NO. of ITERATIONS REACHED LIMIT.\n",
      "\n",
      "Increase the number of iterations (max_iter) or scale the data as shown in:\n",
      "    https://scikit-learn.org/stable/modules/preprocessing.html\n",
      "Please also refer to the documentation for alternative solver options:\n",
      "    https://scikit-learn.org/stable/modules/linear_model.html#logistic-regression\n",
      "  extra_warning_msg=_LOGISTIC_SOLVER_CONVERGENCE_MSG)\n",
      "C:\\Users\\Rajneesh\\Anaconda3\\lib\\site-packages\\sklearn\\linear_model\\_logistic.py:764: ConvergenceWarning: lbfgs failed to converge (status=1):\n",
      "STOP: TOTAL NO. of ITERATIONS REACHED LIMIT.\n",
      "\n",
      "Increase the number of iterations (max_iter) or scale the data as shown in:\n",
      "    https://scikit-learn.org/stable/modules/preprocessing.html\n",
      "Please also refer to the documentation for alternative solver options:\n",
      "    https://scikit-learn.org/stable/modules/linear_model.html#logistic-regression\n",
      "  extra_warning_msg=_LOGISTIC_SOLVER_CONVERGENCE_MSG)\n"
     ]
    },
    {
     "data": {
      "text/plain": [
       "array([0.65641271, 0.89111302, 0.85652432, 0.65427808, 0.64860395])"
      ]
     },
     "execution_count": 63,
     "metadata": {},
     "output_type": "execute_result"
    }
   ],
   "source": [
    "cross_val_score(lr,X_sm,y_sm,scoring='roc_auc')"
   ]
  },
  {
   "cell_type": "code",
   "execution_count": 66,
   "metadata": {},
   "outputs": [
    {
     "name": "stderr",
     "output_type": "stream",
     "text": [
      "C:\\Users\\Rajneesh\\Anaconda3\\lib\\site-packages\\sklearn\\linear_model\\_logistic.py:764: ConvergenceWarning: lbfgs failed to converge (status=1):\n",
      "STOP: TOTAL NO. of ITERATIONS REACHED LIMIT.\n",
      "\n",
      "Increase the number of iterations (max_iter) or scale the data as shown in:\n",
      "    https://scikit-learn.org/stable/modules/preprocessing.html\n",
      "Please also refer to the documentation for alternative solver options:\n",
      "    https://scikit-learn.org/stable/modules/linear_model.html#logistic-regression\n",
      "  extra_warning_msg=_LOGISTIC_SOLVER_CONVERGENCE_MSG)\n"
     ]
    },
    {
     "data": {
      "text/plain": [
       "LogisticRegression()"
      ]
     },
     "execution_count": 66,
     "metadata": {},
     "output_type": "execute_result"
    }
   ],
   "source": [
    "lr.fit(X_sm,y_sm)"
   ]
  },
  {
   "cell_type": "code",
   "execution_count": 67,
   "metadata": {},
   "outputs": [],
   "source": [
    "prediction=lr.predict(df_test.drop('Response',axis=1))"
   ]
  },
  {
   "cell_type": "code",
   "execution_count": 142,
   "metadata": {},
   "outputs": [
    {
     "data": {
      "text/plain": [
       "array([0., 1., 1., ..., 0., 0., 0.])"
      ]
     },
     "execution_count": 142,
     "metadata": {},
     "output_type": "execute_result"
    }
   ],
   "source": [
    "prediction"
   ]
  },
  {
   "cell_type": "code",
   "execution_count": 70,
   "metadata": {},
   "outputs": [],
   "source": [
    "proba_pred=lr.predict_proba(df_test.drop('Response',axis=1))"
   ]
  },
  {
   "cell_type": "code",
   "execution_count": 153,
   "metadata": {},
   "outputs": [],
   "source": [
    "proba=proba_pred[:,1:]"
   ]
  },
  {
   "cell_type": "code",
   "execution_count": 154,
   "metadata": {},
   "outputs": [],
   "source": [
    "sample_sub['Response']=proba"
   ]
  },
  {
   "cell_type": "code",
   "execution_count": 156,
   "metadata": {},
   "outputs": [],
   "source": [
    "sample_sub.to_csv('sub_prob1.csv',index=False)"
   ]
  },
  {
   "cell_type": "markdown",
   "metadata": {},
   "source": [
    "# XGBoost"
   ]
  },
  {
   "cell_type": "code",
   "execution_count": 158,
   "metadata": {},
   "outputs": [],
   "source": [
    "import xgboost as xgb"
   ]
  },
  {
   "cell_type": "code",
   "execution_count": 159,
   "metadata": {},
   "outputs": [],
   "source": [
    "xg_cl = xgb.XGBClassifier(objective='binary:logistic', n_estimators=10, seed=123)"
   ]
  },
  {
   "cell_type": "code",
   "execution_count": 160,
   "metadata": {},
   "outputs": [
    {
     "data": {
      "text/plain": [
       "array([0.87391297, 0.96385306, 0.96270264, 0.96755381, 0.96548714])"
      ]
     },
     "execution_count": 160,
     "metadata": {},
     "output_type": "execute_result"
    }
   ],
   "source": [
    "cross_val_score(xg_cl,X_sm,y_sm,scoring='roc_auc')"
   ]
  },
  {
   "cell_type": "code",
   "execution_count": 161,
   "metadata": {},
   "outputs": [
    {
     "data": {
      "text/plain": [
       "array([0.85313672, 0.85410065, 0.85338017, 0.85338045, 0.85272665])"
      ]
     },
     "execution_count": 161,
     "metadata": {},
     "output_type": "execute_result"
    }
   ],
   "source": [
    "cross_val_score(xg_cl,X,y,scoring='roc_auc')"
   ]
  },
  {
   "cell_type": "code",
   "execution_count": 162,
   "metadata": {},
   "outputs": [
    {
     "data": {
      "text/plain": [
       "XGBClassifier(base_score=0.5, booster='gbtree', colsample_bylevel=1,\n",
       "              colsample_bynode=1, colsample_bytree=1, gamma=0, gpu_id=-1,\n",
       "              importance_type='gain', interaction_constraints='',\n",
       "              learning_rate=0.300000012, max_delta_step=0, max_depth=6,\n",
       "              min_child_weight=1, missing=nan, monotone_constraints='()',\n",
       "              n_estimators=10, n_jobs=0, num_parallel_tree=1, random_state=123,\n",
       "              reg_alpha=0, reg_lambda=1, scale_pos_weight=1, seed=123,\n",
       "              subsample=1, tree_method='exact', validate_parameters=1,\n",
       "              verbosity=None)"
      ]
     },
     "execution_count": 162,
     "metadata": {},
     "output_type": "execute_result"
    }
   ],
   "source": [
    "xg_cl.fit(X_sm,y_sm)"
   ]
  },
  {
   "cell_type": "code",
   "execution_count": 163,
   "metadata": {},
   "outputs": [],
   "source": [
    "proba_xgb=xg_cl.predict_proba(df_test.drop('Response',axis=1))"
   ]
  },
  {
   "cell_type": "code",
   "execution_count": 166,
   "metadata": {},
   "outputs": [],
   "source": [
    "proba_xgb1=proba_xgb[:,1:]"
   ]
  },
  {
   "cell_type": "code",
   "execution_count": 176,
   "metadata": {},
   "outputs": [],
   "source": [
    "proba_xgb2=proba_xgb1.reshape((127037,))"
   ]
  },
  {
   "cell_type": "code",
   "execution_count": 177,
   "metadata": {},
   "outputs": [],
   "source": [
    "sample_sub['Response']=pd.Series(proba_xgb2)"
   ]
  },
  {
   "cell_type": "code",
   "execution_count": 179,
   "metadata": {},
   "outputs": [],
   "source": [
    "sample_sub.to_csv('xgb_proba.csv',index=False)"
   ]
  },
  {
   "cell_type": "code",
   "execution_count": 180,
   "metadata": {},
   "outputs": [],
   "source": [
    "xg_cl1 = xgb.XGBClassifier(objective='binary:logistic', n_estimators=100, seed=123,max_depth=3,learning_rate=0.01,subsample=0.08,gamma=1)"
   ]
  },
  {
   "cell_type": "code",
   "execution_count": 181,
   "metadata": {},
   "outputs": [],
   "source": [
    "from sklearn.model_selection import train_test_split"
   ]
  },
  {
   "cell_type": "code",
   "execution_count": 182,
   "metadata": {},
   "outputs": [],
   "source": [
    "X_train, X_test, y_train, y_test = train_test_split(X_sm, y_sm, test_size=0.33, random_state=42)"
   ]
  },
  {
   "cell_type": "code",
   "execution_count": 183,
   "metadata": {},
   "outputs": [],
   "source": [
    "eval_set=[(X_train,y_train),(X_test,y_test)]"
   ]
  },
  {
   "cell_type": "code",
   "execution_count": 184,
   "metadata": {},
   "outputs": [],
   "source": [
    "eval_metric=['auc','error']"
   ]
  },
  {
   "cell_type": "code",
   "execution_count": 185,
   "metadata": {},
   "outputs": [
    {
     "name": "stdout",
     "output_type": "stream",
     "text": [
      "[0]\tvalidation_0-auc:0.88479\tvalidation_0-error:0.20286\tvalidation_1-auc:0.88680\tvalidation_1-error:0.19989\n",
      "[1]\tvalidation_0-auc:0.88479\tvalidation_0-error:0.20286\tvalidation_1-auc:0.88680\tvalidation_1-error:0.19989\n",
      "[2]\tvalidation_0-auc:0.88485\tvalidation_0-error:0.20286\tvalidation_1-auc:0.88687\tvalidation_1-error:0.19989\n",
      "[3]\tvalidation_0-auc:0.88485\tvalidation_0-error:0.20286\tvalidation_1-auc:0.88687\tvalidation_1-error:0.19989\n",
      "[4]\tvalidation_0-auc:0.88485\tvalidation_0-error:0.20286\tvalidation_1-auc:0.88687\tvalidation_1-error:0.19989\n",
      "[5]\tvalidation_0-auc:0.88485\tvalidation_0-error:0.20286\tvalidation_1-auc:0.88687\tvalidation_1-error:0.19989\n",
      "[6]\tvalidation_0-auc:0.88485\tvalidation_0-error:0.20286\tvalidation_1-auc:0.88687\tvalidation_1-error:0.19989\n",
      "[7]\tvalidation_0-auc:0.89653\tvalidation_0-error:0.19990\tvalidation_1-auc:0.89888\tvalidation_1-error:0.19683\n",
      "[8]\tvalidation_0-auc:0.90203\tvalidation_0-error:0.19352\tvalidation_1-auc:0.90442\tvalidation_1-error:0.19031\n",
      "[9]\tvalidation_0-auc:0.90201\tvalidation_0-error:0.19352\tvalidation_1-auc:0.90441\tvalidation_1-error:0.19031\n",
      "[10]\tvalidation_0-auc:0.90201\tvalidation_0-error:0.19990\tvalidation_1-auc:0.90441\tvalidation_1-error:0.19683\n",
      "[11]\tvalidation_0-auc:0.90201\tvalidation_0-error:0.19990\tvalidation_1-auc:0.90441\tvalidation_1-error:0.19683\n",
      "[12]\tvalidation_0-auc:0.90184\tvalidation_0-error:0.19990\tvalidation_1-auc:0.90426\tvalidation_1-error:0.19683\n",
      "[13]\tvalidation_0-auc:0.90184\tvalidation_0-error:0.19352\tvalidation_1-auc:0.90425\tvalidation_1-error:0.19031\n",
      "[14]\tvalidation_0-auc:0.90791\tvalidation_0-error:0.19827\tvalidation_1-auc:0.91012\tvalidation_1-error:0.19508\n",
      "[15]\tvalidation_0-auc:0.90790\tvalidation_0-error:0.19827\tvalidation_1-auc:0.91011\tvalidation_1-error:0.19508\n",
      "[16]\tvalidation_0-auc:0.90790\tvalidation_0-error:0.19990\tvalidation_1-auc:0.91011\tvalidation_1-error:0.19683\n",
      "[17]\tvalidation_0-auc:0.90821\tvalidation_0-error:0.19871\tvalidation_1-auc:0.91041\tvalidation_1-error:0.19553\n",
      "[18]\tvalidation_0-auc:0.90821\tvalidation_0-error:0.19871\tvalidation_1-auc:0.91041\tvalidation_1-error:0.19553\n",
      "[19]\tvalidation_0-auc:0.90821\tvalidation_0-error:0.19990\tvalidation_1-auc:0.91041\tvalidation_1-error:0.19683\n",
      "[20]\tvalidation_0-auc:0.90821\tvalidation_0-error:0.19990\tvalidation_1-auc:0.91041\tvalidation_1-error:0.19683\n",
      "[21]\tvalidation_0-auc:0.90830\tvalidation_0-error:0.19871\tvalidation_1-auc:0.91050\tvalidation_1-error:0.19553\n",
      "[22]\tvalidation_0-auc:0.90834\tvalidation_0-error:0.19787\tvalidation_1-auc:0.91053\tvalidation_1-error:0.19470\n",
      "[23]\tvalidation_0-auc:0.90833\tvalidation_0-error:0.19795\tvalidation_1-auc:0.91053\tvalidation_1-error:0.19469\n",
      "[24]\tvalidation_0-auc:0.90831\tvalidation_0-error:0.19777\tvalidation_1-auc:0.91051\tvalidation_1-error:0.19461\n",
      "[25]\tvalidation_0-auc:0.90836\tvalidation_0-error:0.18859\tvalidation_1-auc:0.91055\tvalidation_1-error:0.18579\n",
      "[26]\tvalidation_0-auc:0.90837\tvalidation_0-error:0.19302\tvalidation_1-auc:0.91057\tvalidation_1-error:0.18984\n",
      "[27]\tvalidation_0-auc:0.90838\tvalidation_0-error:0.18859\tvalidation_1-auc:0.91058\tvalidation_1-error:0.18579\n",
      "[28]\tvalidation_0-auc:0.90838\tvalidation_0-error:0.18859\tvalidation_1-auc:0.91058\tvalidation_1-error:0.18579\n",
      "[29]\tvalidation_0-auc:0.90837\tvalidation_0-error:0.19302\tvalidation_1-auc:0.91057\tvalidation_1-error:0.18984\n",
      "[30]\tvalidation_0-auc:0.90837\tvalidation_0-error:0.19302\tvalidation_1-auc:0.91057\tvalidation_1-error:0.18984\n",
      "[31]\tvalidation_0-auc:0.90841\tvalidation_0-error:0.18871\tvalidation_1-auc:0.91060\tvalidation_1-error:0.18589\n",
      "[32]\tvalidation_0-auc:0.90842\tvalidation_0-error:0.19281\tvalidation_1-auc:0.91062\tvalidation_1-error:0.18962\n",
      "[33]\tvalidation_0-auc:0.90840\tvalidation_0-error:0.19281\tvalidation_1-auc:0.91059\tvalidation_1-error:0.18962\n",
      "[34]\tvalidation_0-auc:0.90839\tvalidation_0-error:0.19254\tvalidation_1-auc:0.91059\tvalidation_1-error:0.18925\n",
      "[35]\tvalidation_0-auc:0.90841\tvalidation_0-error:0.19131\tvalidation_1-auc:0.91061\tvalidation_1-error:0.18793\n",
      "[36]\tvalidation_0-auc:0.90841\tvalidation_0-error:0.19131\tvalidation_1-auc:0.91060\tvalidation_1-error:0.18793\n",
      "[37]\tvalidation_0-auc:0.90839\tvalidation_0-error:0.19158\tvalidation_1-auc:0.91059\tvalidation_1-error:0.18831\n",
      "[38]\tvalidation_0-auc:0.90839\tvalidation_0-error:0.19131\tvalidation_1-auc:0.91059\tvalidation_1-error:0.18793\n",
      "[39]\tvalidation_0-auc:0.90842\tvalidation_0-error:0.18726\tvalidation_1-auc:0.91061\tvalidation_1-error:0.18436\n",
      "[40]\tvalidation_0-auc:0.90842\tvalidation_0-error:0.19158\tvalidation_1-auc:0.91062\tvalidation_1-error:0.18831\n",
      "[41]\tvalidation_0-auc:0.90845\tvalidation_0-error:0.19158\tvalidation_1-auc:0.91064\tvalidation_1-error:0.18831\n",
      "[42]\tvalidation_0-auc:0.90844\tvalidation_0-error:0.18726\tvalidation_1-auc:0.91063\tvalidation_1-error:0.18436\n",
      "[43]\tvalidation_0-auc:0.90844\tvalidation_0-error:0.18726\tvalidation_1-auc:0.91063\tvalidation_1-error:0.18436\n",
      "[44]\tvalidation_0-auc:0.90844\tvalidation_0-error:0.18726\tvalidation_1-auc:0.91063\tvalidation_1-error:0.18436\n",
      "[45]\tvalidation_0-auc:0.90844\tvalidation_0-error:0.19158\tvalidation_1-auc:0.91063\tvalidation_1-error:0.18831\n",
      "[46]\tvalidation_0-auc:0.90848\tvalidation_0-error:0.18726\tvalidation_1-auc:0.91066\tvalidation_1-error:0.18436\n",
      "[47]\tvalidation_0-auc:0.90849\tvalidation_0-error:0.18726\tvalidation_1-auc:0.91068\tvalidation_1-error:0.18436\n",
      "[48]\tvalidation_0-auc:0.90850\tvalidation_0-error:0.18726\tvalidation_1-auc:0.91068\tvalidation_1-error:0.18436\n",
      "[49]\tvalidation_0-auc:0.90851\tvalidation_0-error:0.19158\tvalidation_1-auc:0.91069\tvalidation_1-error:0.18831\n",
      "[50]\tvalidation_0-auc:0.90850\tvalidation_0-error:0.18726\tvalidation_1-auc:0.91068\tvalidation_1-error:0.18436\n",
      "[51]\tvalidation_0-auc:0.90850\tvalidation_0-error:0.18726\tvalidation_1-auc:0.91069\tvalidation_1-error:0.18436\n",
      "[52]\tvalidation_0-auc:0.90850\tvalidation_0-error:0.18726\tvalidation_1-auc:0.91068\tvalidation_1-error:0.18436\n",
      "[53]\tvalidation_0-auc:0.90860\tvalidation_0-error:0.18726\tvalidation_1-auc:0.91076\tvalidation_1-error:0.18436\n",
      "[54]\tvalidation_0-auc:0.90890\tvalidation_0-error:0.18726\tvalidation_1-auc:0.91101\tvalidation_1-error:0.18436\n",
      "[55]\tvalidation_0-auc:0.90891\tvalidation_0-error:0.18726\tvalidation_1-auc:0.91101\tvalidation_1-error:0.18436\n",
      "[56]\tvalidation_0-auc:0.90891\tvalidation_0-error:0.18726\tvalidation_1-auc:0.91102\tvalidation_1-error:0.18436\n",
      "[57]\tvalidation_0-auc:0.90892\tvalidation_0-error:0.18726\tvalidation_1-auc:0.91102\tvalidation_1-error:0.18436\n",
      "[58]\tvalidation_0-auc:0.90892\tvalidation_0-error:0.18726\tvalidation_1-auc:0.91102\tvalidation_1-error:0.18436\n",
      "[59]\tvalidation_0-auc:0.90894\tvalidation_0-error:0.18726\tvalidation_1-auc:0.91104\tvalidation_1-error:0.18436\n",
      "[60]\tvalidation_0-auc:0.90895\tvalidation_0-error:0.18726\tvalidation_1-auc:0.91105\tvalidation_1-error:0.18436\n",
      "[61]\tvalidation_0-auc:0.90901\tvalidation_0-error:0.18726\tvalidation_1-auc:0.91113\tvalidation_1-error:0.18436\n",
      "[62]\tvalidation_0-auc:0.90900\tvalidation_0-error:0.18726\tvalidation_1-auc:0.91112\tvalidation_1-error:0.18436\n",
      "[63]\tvalidation_0-auc:0.90902\tvalidation_0-error:0.18726\tvalidation_1-auc:0.91113\tvalidation_1-error:0.18436\n",
      "[64]\tvalidation_0-auc:0.90901\tvalidation_0-error:0.18726\tvalidation_1-auc:0.91112\tvalidation_1-error:0.18436\n",
      "[65]\tvalidation_0-auc:0.90902\tvalidation_0-error:0.18726\tvalidation_1-auc:0.91114\tvalidation_1-error:0.18436\n",
      "[66]\tvalidation_0-auc:0.90902\tvalidation_0-error:0.18726\tvalidation_1-auc:0.91114\tvalidation_1-error:0.18436\n",
      "[67]\tvalidation_0-auc:0.90905\tvalidation_0-error:0.18726\tvalidation_1-auc:0.91117\tvalidation_1-error:0.18436\n",
      "[68]\tvalidation_0-auc:0.91214\tvalidation_0-error:0.18726\tvalidation_1-auc:0.91411\tvalidation_1-error:0.18436\n",
      "[69]\tvalidation_0-auc:0.91210\tvalidation_0-error:0.18726\tvalidation_1-auc:0.91408\tvalidation_1-error:0.18436\n",
      "[70]\tvalidation_0-auc:0.90936\tvalidation_0-error:0.18726\tvalidation_1-auc:0.91150\tvalidation_1-error:0.18436\n",
      "[71]\tvalidation_0-auc:0.91174\tvalidation_0-error:0.18726\tvalidation_1-auc:0.91372\tvalidation_1-error:0.18436\n",
      "[72]\tvalidation_0-auc:0.91183\tvalidation_0-error:0.18726\tvalidation_1-auc:0.91381\tvalidation_1-error:0.18436\n",
      "[73]\tvalidation_0-auc:0.91187\tvalidation_0-error:0.18726\tvalidation_1-auc:0.91386\tvalidation_1-error:0.18436\n",
      "[74]\tvalidation_0-auc:0.91190\tvalidation_0-error:0.18726\tvalidation_1-auc:0.91390\tvalidation_1-error:0.18436\n",
      "[75]\tvalidation_0-auc:0.91225\tvalidation_0-error:0.18726\tvalidation_1-auc:0.91420\tvalidation_1-error:0.18436\n"
     ]
    },
    {
     "name": "stdout",
     "output_type": "stream",
     "text": [
      "[76]\tvalidation_0-auc:0.91225\tvalidation_0-error:0.18726\tvalidation_1-auc:0.91420\tvalidation_1-error:0.18436\n",
      "[77]\tvalidation_0-auc:0.91221\tvalidation_0-error:0.18726\tvalidation_1-auc:0.91416\tvalidation_1-error:0.18436\n",
      "[78]\tvalidation_0-auc:0.91221\tvalidation_0-error:0.18726\tvalidation_1-auc:0.91416\tvalidation_1-error:0.18436\n",
      "[79]\tvalidation_0-auc:0.91221\tvalidation_0-error:0.18726\tvalidation_1-auc:0.91416\tvalidation_1-error:0.18436\n",
      "[80]\tvalidation_0-auc:0.91224\tvalidation_0-error:0.18726\tvalidation_1-auc:0.91419\tvalidation_1-error:0.18436\n",
      "[81]\tvalidation_0-auc:0.91224\tvalidation_0-error:0.18726\tvalidation_1-auc:0.91420\tvalidation_1-error:0.18436\n",
      "[82]\tvalidation_0-auc:0.91221\tvalidation_0-error:0.18726\tvalidation_1-auc:0.91417\tvalidation_1-error:0.18436\n",
      "[83]\tvalidation_0-auc:0.91218\tvalidation_0-error:0.18726\tvalidation_1-auc:0.91415\tvalidation_1-error:0.18436\n",
      "[84]\tvalidation_0-auc:0.91225\tvalidation_0-error:0.18726\tvalidation_1-auc:0.91420\tvalidation_1-error:0.18436\n",
      "[85]\tvalidation_0-auc:0.91292\tvalidation_0-error:0.18726\tvalidation_1-auc:0.91494\tvalidation_1-error:0.18436\n",
      "[86]\tvalidation_0-auc:0.91323\tvalidation_0-error:0.18726\tvalidation_1-auc:0.91524\tvalidation_1-error:0.18436\n",
      "[87]\tvalidation_0-auc:0.91323\tvalidation_0-error:0.18726\tvalidation_1-auc:0.91525\tvalidation_1-error:0.18436\n",
      "[88]\tvalidation_0-auc:0.91323\tvalidation_0-error:0.18726\tvalidation_1-auc:0.91524\tvalidation_1-error:0.18436\n",
      "[89]\tvalidation_0-auc:0.91298\tvalidation_0-error:0.18726\tvalidation_1-auc:0.91500\tvalidation_1-error:0.18436\n",
      "[90]\tvalidation_0-auc:0.91337\tvalidation_0-error:0.18726\tvalidation_1-auc:0.91539\tvalidation_1-error:0.18436\n",
      "[91]\tvalidation_0-auc:0.91367\tvalidation_0-error:0.18726\tvalidation_1-auc:0.91568\tvalidation_1-error:0.18436\n",
      "[92]\tvalidation_0-auc:0.91370\tvalidation_0-error:0.18726\tvalidation_1-auc:0.91570\tvalidation_1-error:0.18436\n",
      "[93]\tvalidation_0-auc:0.91371\tvalidation_0-error:0.18726\tvalidation_1-auc:0.91572\tvalidation_1-error:0.18436\n",
      "[94]\tvalidation_0-auc:0.91371\tvalidation_0-error:0.18726\tvalidation_1-auc:0.91571\tvalidation_1-error:0.18436\n",
      "[95]\tvalidation_0-auc:0.91373\tvalidation_0-error:0.18726\tvalidation_1-auc:0.91572\tvalidation_1-error:0.18436\n",
      "[96]\tvalidation_0-auc:0.91402\tvalidation_0-error:0.18726\tvalidation_1-auc:0.91603\tvalidation_1-error:0.18436\n",
      "[97]\tvalidation_0-auc:0.91407\tvalidation_0-error:0.18726\tvalidation_1-auc:0.91608\tvalidation_1-error:0.18436\n",
      "[98]\tvalidation_0-auc:0.91407\tvalidation_0-error:0.18727\tvalidation_1-auc:0.91607\tvalidation_1-error:0.18436\n",
      "[99]\tvalidation_0-auc:0.91413\tvalidation_0-error:0.18654\tvalidation_1-auc:0.91612\tvalidation_1-error:0.18363\n"
     ]
    },
    {
     "data": {
      "text/plain": [
       "XGBClassifier(base_score=0.5, booster='gbtree', colsample_bylevel=1,\n",
       "              colsample_bynode=1, colsample_bytree=1, gamma=1, gpu_id=-1,\n",
       "              importance_type='gain', interaction_constraints='',\n",
       "              learning_rate=0.01, max_delta_step=0, max_depth=3,\n",
       "              min_child_weight=1, missing=nan, monotone_constraints='()',\n",
       "              n_estimators=100, n_jobs=0, num_parallel_tree=1, random_state=123,\n",
       "              reg_alpha=0, reg_lambda=1, scale_pos_weight=1, seed=123,\n",
       "              subsample=0.08, tree_method='exact', validate_parameters=1,\n",
       "              verbosity=None)"
      ]
     },
     "execution_count": 185,
     "metadata": {},
     "output_type": "execute_result"
    }
   ],
   "source": [
    "xg_cl1.fit(X_train,y_train,eval_set=eval_set,eval_metric=eval_metric,verbose=True)"
   ]
  },
  {
   "cell_type": "code",
   "execution_count": 189,
   "metadata": {},
   "outputs": [],
   "source": [
    "proba_xgb_tun=xg_cl1.predict_proba(df_test.drop('Response',axis=1))"
   ]
  },
  {
   "cell_type": "code",
   "execution_count": 194,
   "metadata": {},
   "outputs": [],
   "source": [
    "save=proba_xgb_tun[:,1:].reshape((127037,))"
   ]
  },
  {
   "cell_type": "code",
   "execution_count": 195,
   "metadata": {},
   "outputs": [],
   "source": [
    "sample_sub['Response']=save"
   ]
  },
  {
   "cell_type": "code",
   "execution_count": 196,
   "metadata": {},
   "outputs": [],
   "source": [
    "sample_sub.to_csv('XGB_tune1.csv',index=False)"
   ]
  },
  {
   "cell_type": "code",
   "execution_count": 197,
   "metadata": {},
   "outputs": [
    {
     "data": {
      "text/html": [
       "<div>\n",
       "<style scoped>\n",
       "    .dataframe tbody tr th:only-of-type {\n",
       "        vertical-align: middle;\n",
       "    }\n",
       "\n",
       "    .dataframe tbody tr th {\n",
       "        vertical-align: top;\n",
       "    }\n",
       "\n",
       "    .dataframe thead th {\n",
       "        text-align: right;\n",
       "    }\n",
       "</style>\n",
       "<table border=\"1\" class=\"dataframe\">\n",
       "  <thead>\n",
       "    <tr style=\"text-align: right;\">\n",
       "      <th></th>\n",
       "      <th>id</th>\n",
       "      <th>Response</th>\n",
       "    </tr>\n",
       "  </thead>\n",
       "  <tbody>\n",
       "    <tr>\n",
       "      <td>0</td>\n",
       "      <td>381110</td>\n",
       "      <td>0.183877</td>\n",
       "    </tr>\n",
       "    <tr>\n",
       "      <td>1</td>\n",
       "      <td>381111</td>\n",
       "      <td>0.623671</td>\n",
       "    </tr>\n",
       "    <tr>\n",
       "      <td>2</td>\n",
       "      <td>381112</td>\n",
       "      <td>0.623671</td>\n",
       "    </tr>\n",
       "    <tr>\n",
       "      <td>3</td>\n",
       "      <td>381113</td>\n",
       "      <td>0.367872</td>\n",
       "    </tr>\n",
       "    <tr>\n",
       "      <td>4</td>\n",
       "      <td>381114</td>\n",
       "      <td>0.183877</td>\n",
       "    </tr>\n",
       "    <tr>\n",
       "      <td>...</td>\n",
       "      <td>...</td>\n",
       "      <td>...</td>\n",
       "    </tr>\n",
       "    <tr>\n",
       "      <td>127032</td>\n",
       "      <td>508142</td>\n",
       "      <td>0.183877</td>\n",
       "    </tr>\n",
       "    <tr>\n",
       "      <td>127033</td>\n",
       "      <td>508143</td>\n",
       "      <td>0.580226</td>\n",
       "    </tr>\n",
       "    <tr>\n",
       "      <td>127034</td>\n",
       "      <td>508144</td>\n",
       "      <td>0.183877</td>\n",
       "    </tr>\n",
       "    <tr>\n",
       "      <td>127035</td>\n",
       "      <td>508145</td>\n",
       "      <td>0.183877</td>\n",
       "    </tr>\n",
       "    <tr>\n",
       "      <td>127036</td>\n",
       "      <td>508146</td>\n",
       "      <td>0.183877</td>\n",
       "    </tr>\n",
       "  </tbody>\n",
       "</table>\n",
       "<p>127037 rows × 2 columns</p>\n",
       "</div>"
      ],
      "text/plain": [
       "            id  Response\n",
       "0       381110  0.183877\n",
       "1       381111  0.623671\n",
       "2       381112  0.623671\n",
       "3       381113  0.367872\n",
       "4       381114  0.183877\n",
       "...        ...       ...\n",
       "127032  508142  0.183877\n",
       "127033  508143  0.580226\n",
       "127034  508144  0.183877\n",
       "127035  508145  0.183877\n",
       "127036  508146  0.183877\n",
       "\n",
       "[127037 rows x 2 columns]"
      ]
     },
     "execution_count": 197,
     "metadata": {},
     "output_type": "execute_result"
    }
   ],
   "source": [
    "sample_sub"
   ]
  },
  {
   "cell_type": "code",
   "execution_count": 199,
   "metadata": {},
   "outputs": [],
   "source": [
    "feat_imp=xg_cl1.feature_importances_"
   ]
  },
  {
   "cell_type": "code",
   "execution_count": 204,
   "metadata": {},
   "outputs": [
    {
     "data": {
      "image/png": "[encoded data removed]",
      "text/plain": [
       "<Figure size 864x432 with 1 Axes>"
      ]
     },
     "metadata": {
      "needs_background": "light"
     },
     "output_type": "display_data"
    }
   ],
   "source": [
    "plt.figure(figsize=(12,6))\n",
    "sns.barplot(y=df_train.drop('Response',axis=1).columns,x=feat_imp)\n",
    "plt.tight_layout()"
   ]
  },
  {
   "cell_type": "code",
   "execution_count": 205,
   "metadata": {},
   "outputs": [
    {
     "data": {
      "text/plain": [
       "array([4.8582546e-02, 2.3341589e-04, 0.0000000e+00, 3.3305669e-03,\n",
       "       3.8700070e-02, 1.3161370e-02, 0.0000000e+00, 1.2436537e-04,\n",
       "       6.2300372e-01, 1.2256129e-02, 7.6431297e-02, 1.8417659e-01],\n",
       "      dtype=float32)"
      ]
     },
     "execution_count": 205,
     "metadata": {},
     "output_type": "execute_result"
    }
   ],
   "source": [
    "feat_imp"
   ]
  },
  {
   "cell_type": "markdown",
   "metadata": {},
   "source": [
    "2 Features are of zero importance"
   ]
  },
  {
   "cell_type": "markdown",
   "metadata": {},
   "source": [
    "# Light GBM"
   ]
  },
  {
   "cell_type": "code",
   "execution_count": 206,
   "metadata": {},
   "outputs": [],
   "source": [
    "import lightgbm as lgb"
   ]
  },
  {
   "cell_type": "markdown",
   "metadata": {},
   "source": [
    "Not doing hyper parameter tuning as it will require lot of computational time"
   ]
  },
  {
   "cell_type": "code",
   "execution_count": 212,
   "metadata": {},
   "outputs": [],
   "source": [
    "params = {}\n",
    "params['learning_rate'] = 0.06\n",
    "params['max_depth'] = 50\n",
    "params['n_estimators'] = 500\n",
    "params['objective'] = 'binary'\n",
    "params['boosting_type'] = 'goss'\n",
    "params['subsample'] = 0.7\n",
    "params['random_state'] = 42\n",
    "params['colsample_bytree']=0.7\n",
    "params['min_data_in_leaf'] = 55\n",
    "params['reg_alpha'] = 1.6\n",
    "params['reg_lambda'] = 1.1"
   ]
  },
  {
   "cell_type": "code",
   "execution_count": 213,
   "metadata": {},
   "outputs": [],
   "source": [
    "clf=lgb.LGBMClassifier(**params)"
   ]
  },
  {
   "cell_type": "code",
   "execution_count": 214,
   "metadata": {},
   "outputs": [
    {
     "data": {
      "text/plain": [
       "Index(['Age', 'Annual_Premium', 'Driving_License', 'Policy_Sales_Channel',\n",
       "       'Previously_Insured', 'Region_Code', 'Response', 'Vehicle_Age',\n",
       "       'Vintage', 'No', 'Yes', 'Female', 'Male'],\n",
       "      dtype='object')"
      ]
     },
     "execution_count": 214,
     "metadata": {},
     "output_type": "execute_result"
    }
   ],
   "source": [
    "df_train.columns"
   ]
  },
  {
   "cell_type": "code",
   "execution_count": 215,
   "metadata": {},
   "outputs": [
    {
     "data": {
      "text/html": [
       "<div>\n",
       "<style scoped>\n",
       "    .dataframe tbody tr th:only-of-type {\n",
       "        vertical-align: middle;\n",
       "    }\n",
       "\n",
       "    .dataframe tbody tr th {\n",
       "        vertical-align: top;\n",
       "    }\n",
       "\n",
       "    .dataframe thead th {\n",
       "        text-align: right;\n",
       "    }\n",
       "</style>\n",
       "<table border=\"1\" class=\"dataframe\">\n",
       "  <thead>\n",
       "    <tr style=\"text-align: right;\">\n",
       "      <th></th>\n",
       "      <th>Age</th>\n",
       "      <th>Annual_Premium</th>\n",
       "      <th>Driving_License</th>\n",
       "      <th>Policy_Sales_Channel</th>\n",
       "      <th>Previously_Insured</th>\n",
       "      <th>Region_Code</th>\n",
       "      <th>Response</th>\n",
       "      <th>Vehicle_Age</th>\n",
       "      <th>Vintage</th>\n",
       "      <th>No</th>\n",
       "      <th>Yes</th>\n",
       "      <th>Female</th>\n",
       "      <th>Male</th>\n",
       "    </tr>\n",
       "  </thead>\n",
       "  <tbody>\n",
       "    <tr>\n",
       "      <td>0</td>\n",
       "      <td>44</td>\n",
       "      <td>40454.0</td>\n",
       "      <td>1</td>\n",
       "      <td>26.0</td>\n",
       "      <td>0</td>\n",
       "      <td>28.0</td>\n",
       "      <td>1.0</td>\n",
       "      <td>2</td>\n",
       "      <td>217</td>\n",
       "      <td>0</td>\n",
       "      <td>1</td>\n",
       "      <td>0</td>\n",
       "      <td>1</td>\n",
       "    </tr>\n",
       "    <tr>\n",
       "      <td>1</td>\n",
       "      <td>76</td>\n",
       "      <td>33536.0</td>\n",
       "      <td>1</td>\n",
       "      <td>26.0</td>\n",
       "      <td>0</td>\n",
       "      <td>3.0</td>\n",
       "      <td>0.0</td>\n",
       "      <td>1</td>\n",
       "      <td>183</td>\n",
       "      <td>1</td>\n",
       "      <td>0</td>\n",
       "      <td>0</td>\n",
       "      <td>1</td>\n",
       "    </tr>\n",
       "    <tr>\n",
       "      <td>2</td>\n",
       "      <td>47</td>\n",
       "      <td>38294.0</td>\n",
       "      <td>1</td>\n",
       "      <td>26.0</td>\n",
       "      <td>0</td>\n",
       "      <td>28.0</td>\n",
       "      <td>1.0</td>\n",
       "      <td>2</td>\n",
       "      <td>27</td>\n",
       "      <td>0</td>\n",
       "      <td>1</td>\n",
       "      <td>0</td>\n",
       "      <td>1</td>\n",
       "    </tr>\n",
       "    <tr>\n",
       "      <td>3</td>\n",
       "      <td>21</td>\n",
       "      <td>28619.0</td>\n",
       "      <td>1</td>\n",
       "      <td>152.0</td>\n",
       "      <td>1</td>\n",
       "      <td>11.0</td>\n",
       "      <td>0.0</td>\n",
       "      <td>0</td>\n",
       "      <td>203</td>\n",
       "      <td>1</td>\n",
       "      <td>0</td>\n",
       "      <td>0</td>\n",
       "      <td>1</td>\n",
       "    </tr>\n",
       "    <tr>\n",
       "      <td>4</td>\n",
       "      <td>29</td>\n",
       "      <td>27496.0</td>\n",
       "      <td>1</td>\n",
       "      <td>152.0</td>\n",
       "      <td>1</td>\n",
       "      <td>41.0</td>\n",
       "      <td>0.0</td>\n",
       "      <td>0</td>\n",
       "      <td>39</td>\n",
       "      <td>1</td>\n",
       "      <td>0</td>\n",
       "      <td>1</td>\n",
       "      <td>0</td>\n",
       "    </tr>\n",
       "  </tbody>\n",
       "</table>\n",
       "</div>"
      ],
      "text/plain": [
       "   Age  Annual_Premium  Driving_License  Policy_Sales_Channel  \\\n",
       "0   44         40454.0                1                  26.0   \n",
       "1   76         33536.0                1                  26.0   \n",
       "2   47         38294.0                1                  26.0   \n",
       "3   21         28619.0                1                 152.0   \n",
       "4   29         27496.0                1                 152.0   \n",
       "\n",
       "   Previously_Insured  Region_Code  Response  Vehicle_Age  Vintage  No  Yes  \\\n",
       "0                   0         28.0       1.0            2      217   0    1   \n",
       "1                   0          3.0       0.0            1      183   1    0   \n",
       "2                   0         28.0       1.0            2       27   0    1   \n",
       "3                   1         11.0       0.0            0      203   1    0   \n",
       "4                   1         41.0       0.0            0       39   1    0   \n",
       "\n",
       "   Female  Male  \n",
       "0       0     1  \n",
       "1       0     1  \n",
       "2       0     1  \n",
       "3       0     1  \n",
       "4       1     0  "
      ]
     },
     "execution_count": 215,
     "metadata": {},
     "output_type": "execute_result"
    }
   ],
   "source": [
    "df_train.head()"
   ]
  },
  {
   "cell_type": "code",
   "execution_count": 216,
   "metadata": {},
   "outputs": [
    {
     "name": "stdout",
     "output_type": "stream",
     "text": [
      "[1]\ttraining's binary_error: 0.173959\ttraining's binary_logloss: 0.660218\tvalid_1's binary_error: 0.172398\tvalid_1's binary_logloss: 0.660071\n",
      "Training until validation scores don't improve for 100 rounds\n",
      "[2]\ttraining's binary_error: 0.157904\ttraining's binary_logloss: 0.633562\tvalid_1's binary_error: 0.157541\tvalid_1's binary_logloss: 0.633303\n",
      "[3]\ttraining's binary_error: 0.154463\ttraining's binary_logloss: 0.608607\tvalid_1's binary_error: 0.151243\tvalid_1's binary_logloss: 0.608119\n",
      "[4]\ttraining's binary_error: 0.152086\ttraining's binary_logloss: 0.58766\tvalid_1's binary_error: 0.1493\tvalid_1's binary_logloss: 0.587074\n",
      "[5]\ttraining's binary_error: 0.152589\ttraining's binary_logloss: 0.568039\tvalid_1's binary_error: 0.149635\tvalid_1's binary_logloss: 0.567347\n",
      "[6]\ttraining's binary_error: 0.148882\ttraining's binary_logloss: 0.546097\tvalid_1's binary_error: 0.146241\tvalid_1's binary_logloss: 0.545265\n",
      "[7]\ttraining's binary_error: 0.149395\ttraining's binary_logloss: 0.53027\tvalid_1's binary_error: 0.146599\tvalid_1's binary_logloss: 0.52937\n",
      "[8]\ttraining's binary_error: 0.145126\ttraining's binary_logloss: 0.515096\tvalid_1's binary_error: 0.142644\tvalid_1's binary_logloss: 0.514097\n",
      "[9]\ttraining's binary_error: 0.146576\ttraining's binary_logloss: 0.500495\tvalid_1's binary_error: 0.143464\tvalid_1's binary_logloss: 0.499374\n",
      "[10]\ttraining's binary_error: 0.147094\ttraining's binary_logloss: 0.487368\tvalid_1's binary_error: 0.144247\tvalid_1's binary_logloss: 0.486177\n",
      "[11]\ttraining's binary_error: 0.145311\ttraining's binary_logloss: 0.473028\tvalid_1's binary_error: 0.142775\tvalid_1's binary_logloss: 0.47179\n",
      "[12]\ttraining's binary_error: 0.142818\ttraining's binary_logloss: 0.459548\tvalid_1's binary_error: 0.140179\tvalid_1's binary_logloss: 0.458234\n",
      "[13]\ttraining's binary_error: 0.145074\ttraining's binary_logloss: 0.449179\tvalid_1's binary_error: 0.142412\tvalid_1's binary_logloss: 0.447755\n",
      "[14]\ttraining's binary_error: 0.143952\ttraining's binary_logloss: 0.437643\tvalid_1's binary_error: 0.141289\tvalid_1's binary_logloss: 0.436144\n",
      "[15]\ttraining's binary_error: 0.143285\ttraining's binary_logloss: 0.429105\tvalid_1's binary_error: 0.140596\tvalid_1's binary_logloss: 0.427551\n",
      "[16]\ttraining's binary_error: 0.144405\ttraining's binary_logloss: 0.420481\tvalid_1's binary_error: 0.14157\tvalid_1's binary_logloss: 0.418821\n",
      "[17]\ttraining's binary_error: 0.144572\ttraining's binary_logloss: 0.413692\tvalid_1's binary_error: 0.141642\tvalid_1's binary_logloss: 0.411983\n",
      "[18]\ttraining's binary_error: 0.143981\ttraining's binary_logloss: 0.406852\tvalid_1's binary_error: 0.140881\tvalid_1's binary_logloss: 0.405107\n",
      "[19]\ttraining's binary_error: 0.14353\ttraining's binary_logloss: 0.400119\tvalid_1's binary_error: 0.140718\tvalid_1's binary_logloss: 0.398317\n",
      "[20]\ttraining's binary_error: 0.143492\ttraining's binary_logloss: 0.393332\tvalid_1's binary_error: 0.140482\tvalid_1's binary_logloss: 0.391464\n",
      "[21]\ttraining's binary_error: 0.143137\ttraining's binary_logloss: 0.385956\tvalid_1's binary_error: 0.140269\tvalid_1's binary_logloss: 0.384062\n",
      "[22]\ttraining's binary_error: 0.142843\ttraining's binary_logloss: 0.379609\tvalid_1's binary_error: 0.140038\tvalid_1's binary_logloss: 0.377671\n",
      "[23]\ttraining's binary_error: 0.142343\ttraining's binary_logloss: 0.372904\tvalid_1's binary_error: 0.139549\tvalid_1's binary_logloss: 0.370936\n",
      "[24]\ttraining's binary_error: 0.14176\ttraining's binary_logloss: 0.368136\tvalid_1's binary_error: 0.139209\tvalid_1's binary_logloss: 0.366105\n",
      "[25]\ttraining's binary_error: 0.141468\ttraining's binary_logloss: 0.36345\tvalid_1's binary_error: 0.139091\tvalid_1's binary_logloss: 0.361397\n",
      "[26]\ttraining's binary_error: 0.140745\ttraining's binary_logloss: 0.357766\tvalid_1's binary_error: 0.138294\tvalid_1's binary_logloss: 0.355703\n",
      "[27]\ttraining's binary_error: 0.140649\ttraining's binary_logloss: 0.353097\tvalid_1's binary_error: 0.138249\tvalid_1's binary_logloss: 0.351007\n",
      "[28]\ttraining's binary_error: 0.140093\ttraining's binary_logloss: 0.347875\tvalid_1's binary_error: 0.137628\tvalid_1's binary_logloss: 0.345772\n",
      "[29]\ttraining's binary_error: 0.139861\ttraining's binary_logloss: 0.343905\tvalid_1's binary_error: 0.137392\tvalid_1's binary_logloss: 0.341788\n",
      "[30]\ttraining's binary_error: 0.139564\ttraining's binary_logloss: 0.339352\tvalid_1's binary_error: 0.137297\tvalid_1's binary_logloss: 0.337217\n",
      "[31]\ttraining's binary_error: 0.139065\ttraining's binary_logloss: 0.334989\tvalid_1's binary_error: 0.136898\tvalid_1's binary_logloss: 0.332837\n",
      "[32]\ttraining's binary_error: 0.138703\ttraining's binary_logloss: 0.332314\tvalid_1's binary_error: 0.136477\tvalid_1's binary_logloss: 0.330135\n",
      "[33]\ttraining's binary_error: 0.138877\ttraining's binary_logloss: 0.329558\tvalid_1's binary_error: 0.136595\tvalid_1's binary_logloss: 0.327339\n",
      "[34]\ttraining's binary_error: 0.138739\ttraining's binary_logloss: 0.325898\tvalid_1's binary_error: 0.136509\tvalid_1's binary_logloss: 0.323682\n",
      "[35]\ttraining's binary_error: 0.13867\ttraining's binary_logloss: 0.32331\tvalid_1's binary_error: 0.136558\tvalid_1's binary_logloss: 0.321079\n",
      "[36]\ttraining's binary_error: 0.137761\ttraining's binary_logloss: 0.320186\tvalid_1's binary_error: 0.135467\tvalid_1's binary_logloss: 0.31792\n",
      "[37]\ttraining's binary_error: 0.137748\ttraining's binary_logloss: 0.317732\tvalid_1's binary_error: 0.135476\tvalid_1's binary_logloss: 0.315445\n",
      "[38]\ttraining's binary_error: 0.137435\ttraining's binary_logloss: 0.315178\tvalid_1's binary_error: 0.135254\tvalid_1's binary_logloss: 0.312881\n",
      "[39]\ttraining's binary_error: 0.137152\ttraining's binary_logloss: 0.312182\tvalid_1's binary_error: 0.135104\tvalid_1's binary_logloss: 0.309896\n",
      "[40]\ttraining's binary_error: 0.136757\ttraining's binary_logloss: 0.309527\tvalid_1's binary_error: 0.134696\tvalid_1's binary_logloss: 0.307257\n",
      "[41]\ttraining's binary_error: 0.136134\ttraining's binary_logloss: 0.307174\tvalid_1's binary_error: 0.13403\tvalid_1's binary_logloss: 0.304906\n",
      "[42]\ttraining's binary_error: 0.135822\ttraining's binary_logloss: 0.305351\tvalid_1's binary_error: 0.13394\tvalid_1's binary_logloss: 0.303054\n",
      "[43]\ttraining's binary_error: 0.135672\ttraining's binary_logloss: 0.303302\tvalid_1's binary_error: 0.133663\tvalid_1's binary_logloss: 0.300983\n",
      "[44]\ttraining's binary_error: 0.135257\ttraining's binary_logloss: 0.301306\tvalid_1's binary_error: 0.133355\tvalid_1's binary_logloss: 0.298952\n",
      "[45]\ttraining's binary_error: 0.134894\ttraining's binary_logloss: 0.299426\tvalid_1's binary_error: 0.133092\tvalid_1's binary_logloss: 0.29708\n",
      "[46]\ttraining's binary_error: 0.134418\ttraining's binary_logloss: 0.297121\tvalid_1's binary_error: 0.132512\tvalid_1's binary_logloss: 0.294791\n",
      "[47]\ttraining's binary_error: 0.134577\ttraining's binary_logloss: 0.295947\tvalid_1's binary_error: 0.132703\tvalid_1's binary_logloss: 0.293609\n",
      "[48]\ttraining's binary_error: 0.134182\ttraining's binary_logloss: 0.293501\tvalid_1's binary_error: 0.132263\tvalid_1's binary_logloss: 0.291151\n",
      "[49]\ttraining's binary_error: 0.133947\ttraining's binary_logloss: 0.292123\tvalid_1's binary_error: 0.131905\tvalid_1's binary_logloss: 0.289775\n",
      "[50]\ttraining's binary_error: 0.133813\ttraining's binary_logloss: 0.290543\tvalid_1's binary_error: 0.13186\tvalid_1's binary_logloss: 0.288196\n",
      "[51]\ttraining's binary_error: 0.133483\ttraining's binary_logloss: 0.288889\tvalid_1's binary_error: 0.131547\tvalid_1's binary_logloss: 0.286505\n",
      "[52]\ttraining's binary_error: 0.133314\ttraining's binary_logloss: 0.287468\tvalid_1's binary_error: 0.131366\tvalid_1's binary_logloss: 0.285082\n",
      "[53]\ttraining's binary_error: 0.133177\ttraining's binary_logloss: 0.286247\tvalid_1's binary_error: 0.131298\tvalid_1's binary_logloss: 0.283887\n",
      "[54]\ttraining's binary_error: 0.133133\ttraining's binary_logloss: 0.285001\tvalid_1's binary_error: 0.131244\tvalid_1's binary_logloss: 0.282636\n",
      "[55]\ttraining's binary_error: 0.133028\ttraining's binary_logloss: 0.28404\tvalid_1's binary_error: 0.131112\tvalid_1's binary_logloss: 0.281681\n",
      "[56]\ttraining's binary_error: 0.132863\ttraining's binary_logloss: 0.282903\tvalid_1's binary_error: 0.131004\tvalid_1's binary_logloss: 0.280541\n",
      "[57]\ttraining's binary_error: 0.132936\ttraining's binary_logloss: 0.282126\tvalid_1's binary_error: 0.13099\tvalid_1's binary_logloss: 0.279762\n",
      "[58]\ttraining's binary_error: 0.132823\ttraining's binary_logloss: 0.281115\tvalid_1's binary_error: 0.130954\tvalid_1's binary_logloss: 0.278749\n"
     ]
    },
    {
     "name": "stdout",
     "output_type": "stream",
     "text": [
      "[59]\ttraining's binary_error: 0.132541\ttraining's binary_logloss: 0.279531\tvalid_1's binary_error: 0.130881\tvalid_1's binary_logloss: 0.277197\n",
      "[60]\ttraining's binary_error: 0.132079\ttraining's binary_logloss: 0.277788\tvalid_1's binary_error: 0.130324\tvalid_1's binary_logloss: 0.275458\n",
      "[61]\ttraining's binary_error: 0.131499\ttraining's binary_logloss: 0.275939\tvalid_1's binary_error: 0.129708\tvalid_1's binary_logloss: 0.273605\n",
      "[62]\ttraining's binary_error: 0.131039\ttraining's binary_logloss: 0.274967\tvalid_1's binary_error: 0.129345\tvalid_1's binary_logloss: 0.27265\n",
      "[63]\ttraining's binary_error: 0.130856\ttraining's binary_logloss: 0.274119\tvalid_1's binary_error: 0.129005\tvalid_1's binary_logloss: 0.2718\n",
      "[64]\ttraining's binary_error: 0.130852\ttraining's binary_logloss: 0.273097\tvalid_1's binary_error: 0.128924\tvalid_1's binary_logloss: 0.270787\n",
      "[65]\ttraining's binary_error: 0.130513\ttraining's binary_logloss: 0.272303\tvalid_1's binary_error: 0.128756\tvalid_1's binary_logloss: 0.270004\n",
      "[66]\ttraining's binary_error: 0.130473\ttraining's binary_logloss: 0.271526\tvalid_1's binary_error: 0.128734\tvalid_1's binary_logloss: 0.26924\n",
      "[67]\ttraining's binary_error: 0.130299\ttraining's binary_logloss: 0.27046\tvalid_1's binary_error: 0.128593\tvalid_1's binary_logloss: 0.26819\n",
      "[68]\ttraining's binary_error: 0.129785\ttraining's binary_logloss: 0.268878\tvalid_1's binary_error: 0.128131\tvalid_1's binary_logloss: 0.266622\n",
      "[69]\ttraining's binary_error: 0.129596\ttraining's binary_logloss: 0.267758\tvalid_1's binary_error: 0.127999\tvalid_1's binary_logloss: 0.265505\n",
      "[70]\ttraining's binary_error: 0.128955\ttraining's binary_logloss: 0.266344\tvalid_1's binary_error: 0.127365\tvalid_1's binary_logloss: 0.264078\n",
      "[71]\ttraining's binary_error: 0.128681\ttraining's binary_logloss: 0.265436\tvalid_1's binary_error: 0.127107\tvalid_1's binary_logloss: 0.26319\n",
      "[72]\ttraining's binary_error: 0.128355\ttraining's binary_logloss: 0.264526\tvalid_1's binary_error: 0.126627\tvalid_1's binary_logloss: 0.262279\n",
      "[73]\ttraining's binary_error: 0.128283\ttraining's binary_logloss: 0.263814\tvalid_1's binary_error: 0.126509\tvalid_1's binary_logloss: 0.261582\n",
      "[74]\ttraining's binary_error: 0.12796\ttraining's binary_logloss: 0.262663\tvalid_1's binary_error: 0.126251\tvalid_1's binary_logloss: 0.260442\n",
      "[75]\ttraining's binary_error: 0.12765\ttraining's binary_logloss: 0.261708\tvalid_1's binary_error: 0.125988\tvalid_1's binary_logloss: 0.259483\n",
      "[76]\ttraining's binary_error: 0.12731\ttraining's binary_logloss: 0.260814\tvalid_1's binary_error: 0.125757\tvalid_1's binary_logloss: 0.258601\n",
      "[77]\ttraining's binary_error: 0.126915\ttraining's binary_logloss: 0.259709\tvalid_1's binary_error: 0.125362\tvalid_1's binary_logloss: 0.257528\n",
      "[78]\ttraining's binary_error: 0.126558\ttraining's binary_logloss: 0.258892\tvalid_1's binary_error: 0.124932\tvalid_1's binary_logloss: 0.256724\n",
      "[79]\ttraining's binary_error: 0.126315\ttraining's binary_logloss: 0.258215\tvalid_1's binary_error: 0.124647\tvalid_1's binary_logloss: 0.256054\n",
      "[80]\ttraining's binary_error: 0.12615\ttraining's binary_logloss: 0.257495\tvalid_1's binary_error: 0.124579\tvalid_1's binary_logloss: 0.255344\n",
      "[81]\ttraining's binary_error: 0.12598\ttraining's binary_logloss: 0.256834\tvalid_1's binary_error: 0.124338\tvalid_1's binary_logloss: 0.254694\n",
      "[82]\ttraining's binary_error: 0.125953\ttraining's binary_logloss: 0.256567\tvalid_1's binary_error: 0.124284\tvalid_1's binary_logloss: 0.25444\n",
      "[83]\ttraining's binary_error: 0.125802\ttraining's binary_logloss: 0.256001\tvalid_1's binary_error: 0.124153\tvalid_1's binary_logloss: 0.253874\n",
      "[84]\ttraining's binary_error: 0.12567\ttraining's binary_logloss: 0.25555\tvalid_1's binary_error: 0.123994\tvalid_1's binary_logloss: 0.25342\n",
      "[85]\ttraining's binary_error: 0.125527\ttraining's binary_logloss: 0.255133\tvalid_1's binary_error: 0.123872\tvalid_1's binary_logloss: 0.253014\n",
      "[86]\ttraining's binary_error: 0.125152\ttraining's binary_logloss: 0.25416\tvalid_1's binary_error: 0.123573\tvalid_1's binary_logloss: 0.252016\n",
      "[87]\ttraining's binary_error: 0.124998\ttraining's binary_logloss: 0.253647\tvalid_1's binary_error: 0.12355\tvalid_1's binary_logloss: 0.251517\n",
      "[88]\ttraining's binary_error: 0.124882\ttraining's binary_logloss: 0.253203\tvalid_1's binary_error: 0.123469\tvalid_1's binary_logloss: 0.251083\n",
      "[89]\ttraining's binary_error: 0.124449\ttraining's binary_logloss: 0.252292\tvalid_1's binary_error: 0.123169\tvalid_1's binary_logloss: 0.250185\n",
      "[90]\ttraining's binary_error: 0.124166\ttraining's binary_logloss: 0.251678\tvalid_1's binary_error: 0.122966\tvalid_1's binary_logloss: 0.249573\n",
      "[91]\ttraining's binary_error: 0.124117\ttraining's binary_logloss: 0.251291\tvalid_1's binary_error: 0.122934\tvalid_1's binary_logloss: 0.249211\n",
      "[92]\ttraining's binary_error: 0.123889\ttraining's binary_logloss: 0.250434\tvalid_1's binary_error: 0.122626\tvalid_1's binary_logloss: 0.248315\n",
      "[93]\ttraining's binary_error: 0.123561\ttraining's binary_logloss: 0.249597\tvalid_1's binary_error: 0.122309\tvalid_1's binary_logloss: 0.247494\n",
      "[94]\ttraining's binary_error: 0.123548\ttraining's binary_logloss: 0.249234\tvalid_1's binary_error: 0.122241\tvalid_1's binary_logloss: 0.247143\n",
      "[95]\ttraining's binary_error: 0.123186\ttraining's binary_logloss: 0.248246\tvalid_1's binary_error: 0.121824\tvalid_1's binary_logloss: 0.246163\n",
      "[96]\ttraining's binary_error: 0.122916\ttraining's binary_logloss: 0.247361\tvalid_1's binary_error: 0.121457\tvalid_1's binary_logloss: 0.245237\n",
      "[97]\ttraining's binary_error: 0.122702\ttraining's binary_logloss: 0.246867\tvalid_1's binary_error: 0.121185\tvalid_1's binary_logloss: 0.24475\n",
      "[98]\ttraining's binary_error: 0.122294\ttraining's binary_logloss: 0.246043\tvalid_1's binary_error: 0.120727\tvalid_1's binary_logloss: 0.243945\n",
      "[99]\ttraining's binary_error: 0.121943\ttraining's binary_logloss: 0.245304\tvalid_1's binary_error: 0.120397\tvalid_1's binary_logloss: 0.243217\n",
      "[100]\ttraining's binary_error: 0.121805\ttraining's binary_logloss: 0.244937\tvalid_1's binary_error: 0.120265\tvalid_1's binary_logloss: 0.242869\n",
      "[101]\ttraining's binary_error: 0.121642\ttraining's binary_logloss: 0.244495\tvalid_1's binary_error: 0.12017\tvalid_1's binary_logloss: 0.242423\n",
      "[102]\ttraining's binary_error: 0.121361\ttraining's binary_logloss: 0.243905\tvalid_1's binary_error: 0.119903\tvalid_1's binary_logloss: 0.241853\n",
      "[103]\ttraining's binary_error: 0.121218\ttraining's binary_logloss: 0.243486\tvalid_1's binary_error: 0.119749\tvalid_1's binary_logloss: 0.241426\n",
      "[104]\ttraining's binary_error: 0.121109\ttraining's binary_logloss: 0.24316\tvalid_1's binary_error: 0.119626\tvalid_1's binary_logloss: 0.241094\n",
      "[105]\ttraining's binary_error: 0.120984\ttraining's binary_logloss: 0.242876\tvalid_1's binary_error: 0.119554\tvalid_1's binary_logloss: 0.240816\n",
      "[106]\ttraining's binary_error: 0.120959\ttraining's binary_logloss: 0.242479\tvalid_1's binary_error: 0.119499\tvalid_1's binary_logloss: 0.240431\n",
      "[107]\ttraining's binary_error: 0.120796\ttraining's binary_logloss: 0.242085\tvalid_1's binary_error: 0.119336\tvalid_1's binary_logloss: 0.24004\n",
      "[108]\ttraining's binary_error: 0.120615\ttraining's binary_logloss: 0.241742\tvalid_1's binary_error: 0.119209\tvalid_1's binary_logloss: 0.239715\n",
      "[109]\ttraining's binary_error: 0.120229\ttraining's binary_logloss: 0.240895\tvalid_1's binary_error: 0.118802\tvalid_1's binary_logloss: 0.238853\n",
      "[110]\ttraining's binary_error: 0.120202\ttraining's binary_logloss: 0.240694\tvalid_1's binary_error: 0.118756\tvalid_1's binary_logloss: 0.238659\n",
      "[111]\ttraining's binary_error: 0.119854\ttraining's binary_logloss: 0.240087\tvalid_1's binary_error: 0.118593\tvalid_1's binary_logloss: 0.238066\n",
      "[112]\ttraining's binary_error: 0.119415\ttraining's binary_logloss: 0.239364\tvalid_1's binary_error: 0.11824\tvalid_1's binary_logloss: 0.237342\n",
      "[113]\ttraining's binary_error: 0.119116\ttraining's binary_logloss: 0.238728\tvalid_1's binary_error: 0.117782\tvalid_1's binary_logloss: 0.236734\n",
      "[114]\ttraining's binary_error: 0.118897\ttraining's binary_logloss: 0.238311\tvalid_1's binary_error: 0.117615\tvalid_1's binary_logloss: 0.236317\n",
      "[115]\ttraining's binary_error: 0.118741\ttraining's binary_logloss: 0.237899\tvalid_1's binary_error: 0.117538\tvalid_1's binary_logloss: 0.23593\n",
      "[116]\ttraining's binary_error: 0.118359\ttraining's binary_logloss: 0.237321\tvalid_1's binary_error: 0.117293\tvalid_1's binary_logloss: 0.235356\n"
     ]
    },
    {
     "name": "stdout",
     "output_type": "stream",
     "text": [
      "[117]\ttraining's binary_error: 0.118268\ttraining's binary_logloss: 0.236944\tvalid_1's binary_error: 0.117166\tvalid_1's binary_logloss: 0.234988\n",
      "[118]\ttraining's binary_error: 0.118102\ttraining's binary_logloss: 0.236575\tvalid_1's binary_error: 0.117026\tvalid_1's binary_logloss: 0.234628\n",
      "[119]\ttraining's binary_error: 0.118056\ttraining's binary_logloss: 0.236456\tvalid_1's binary_error: 0.117016\tvalid_1's binary_logloss: 0.234521\n",
      "[120]\ttraining's binary_error: 0.117647\ttraining's binary_logloss: 0.235861\tvalid_1's binary_error: 0.116749\tvalid_1's binary_logloss: 0.23394\n",
      "[121]\ttraining's binary_error: 0.117663\ttraining's binary_logloss: 0.235793\tvalid_1's binary_error: 0.116717\tvalid_1's binary_logloss: 0.233881\n",
      "[122]\ttraining's binary_error: 0.11737\ttraining's binary_logloss: 0.235093\tvalid_1's binary_error: 0.116369\tvalid_1's binary_logloss: 0.233147\n",
      "[123]\ttraining's binary_error: 0.117203\ttraining's binary_logloss: 0.234692\tvalid_1's binary_error: 0.116233\tvalid_1's binary_logloss: 0.232736\n",
      "[124]\ttraining's binary_error: 0.11694\ttraining's binary_logloss: 0.233977\tvalid_1's binary_error: 0.116042\tvalid_1's binary_logloss: 0.232046\n",
      "[125]\ttraining's binary_error: 0.116627\ttraining's binary_logloss: 0.233333\tvalid_1's binary_error: 0.11573\tvalid_1's binary_logloss: 0.231372\n",
      "[126]\ttraining's binary_error: 0.116337\ttraining's binary_logloss: 0.232746\tvalid_1's binary_error: 0.115449\tvalid_1's binary_logloss: 0.230807\n",
      "[127]\ttraining's binary_error: 0.116194\ttraining's binary_logloss: 0.2323\tvalid_1's binary_error: 0.115313\tvalid_1's binary_logloss: 0.230341\n",
      "[128]\ttraining's binary_error: 0.116016\ttraining's binary_logloss: 0.231965\tvalid_1's binary_error: 0.1151\tvalid_1's binary_logloss: 0.230022\n",
      "[129]\ttraining's binary_error: 0.115835\ttraining's binary_logloss: 0.231664\tvalid_1's binary_error: 0.114946\tvalid_1's binary_logloss: 0.229754\n",
      "[130]\ttraining's binary_error: 0.115786\ttraining's binary_logloss: 0.231457\tvalid_1's binary_error: 0.114823\tvalid_1's binary_logloss: 0.22956\n",
      "[131]\ttraining's binary_error: 0.115643\ttraining's binary_logloss: 0.231168\tvalid_1's binary_error: 0.114737\tvalid_1's binary_logloss: 0.229278\n",
      "[132]\ttraining's binary_error: 0.115384\ttraining's binary_logloss: 0.230628\tvalid_1's binary_error: 0.114379\tvalid_1's binary_logloss: 0.228718\n",
      "[133]\ttraining's binary_error: 0.115295\ttraining's binary_logloss: 0.230525\tvalid_1's binary_error: 0.114311\tvalid_1's binary_logloss: 0.228632\n",
      "[134]\ttraining's binary_error: 0.115045\ttraining's binary_logloss: 0.230137\tvalid_1's binary_error: 0.114053\tvalid_1's binary_logloss: 0.228251\n",
      "[135]\ttraining's binary_error: 0.114947\ttraining's binary_logloss: 0.229868\tvalid_1's binary_error: 0.113958\tvalid_1's binary_logloss: 0.227986\n",
      "[136]\ttraining's binary_error: 0.114708\ttraining's binary_logloss: 0.229344\tvalid_1's binary_error: 0.113677\tvalid_1's binary_logloss: 0.22748\n",
      "[137]\ttraining's binary_error: 0.114474\ttraining's binary_logloss: 0.228949\tvalid_1's binary_error: 0.113387\tvalid_1's binary_logloss: 0.227062\n",
      "[138]\ttraining's binary_error: 0.114206\ttraining's binary_logloss: 0.228621\tvalid_1's binary_error: 0.113174\tvalid_1's binary_logloss: 0.226724\n",
      "[139]\ttraining's binary_error: 0.114148\ttraining's binary_logloss: 0.228435\tvalid_1's binary_error: 0.11317\tvalid_1's binary_logloss: 0.226543\n",
      "[140]\ttraining's binary_error: 0.113936\ttraining's binary_logloss: 0.227975\tvalid_1's binary_error: 0.112943\tvalid_1's binary_logloss: 0.226092\n",
      "[141]\ttraining's binary_error: 0.113697\ttraining's binary_logloss: 0.227672\tvalid_1's binary_error: 0.112608\tvalid_1's binary_logloss: 0.225803\n",
      "[142]\ttraining's binary_error: 0.113652\ttraining's binary_logloss: 0.227503\tvalid_1's binary_error: 0.112572\tvalid_1's binary_logloss: 0.225633\n",
      "[143]\ttraining's binary_error: 0.113615\ttraining's binary_logloss: 0.227239\tvalid_1's binary_error: 0.112495\tvalid_1's binary_logloss: 0.225379\n",
      "[144]\ttraining's binary_error: 0.113454\ttraining's binary_logloss: 0.226984\tvalid_1's binary_error: 0.112354\tvalid_1's binary_logloss: 0.225136\n",
      "[145]\ttraining's binary_error: 0.113211\ttraining's binary_logloss: 0.226572\tvalid_1's binary_error: 0.112069\tvalid_1's binary_logloss: 0.224701\n",
      "[146]\ttraining's binary_error: 0.113197\ttraining's binary_logloss: 0.226404\tvalid_1's binary_error: 0.11196\tvalid_1's binary_logloss: 0.224547\n",
      "[147]\ttraining's binary_error: 0.113115\ttraining's binary_logloss: 0.226097\tvalid_1's binary_error: 0.111788\tvalid_1's binary_logloss: 0.224223\n",
      "[148]\ttraining's binary_error: 0.113061\ttraining's binary_logloss: 0.226033\tvalid_1's binary_error: 0.111765\tvalid_1's binary_logloss: 0.224166\n",
      "[149]\ttraining's binary_error: 0.112974\ttraining's binary_logloss: 0.225893\tvalid_1's binary_error: 0.111697\tvalid_1's binary_logloss: 0.224037\n",
      "[150]\ttraining's binary_error: 0.112912\ttraining's binary_logloss: 0.22574\tvalid_1's binary_error: 0.111706\tvalid_1's binary_logloss: 0.223894\n",
      "[151]\ttraining's binary_error: 0.112751\ttraining's binary_logloss: 0.225525\tvalid_1's binary_error: 0.111561\tvalid_1's binary_logloss: 0.223693\n",
      "[152]\ttraining's binary_error: 0.112615\ttraining's binary_logloss: 0.225359\tvalid_1's binary_error: 0.111543\tvalid_1's binary_logloss: 0.223543\n",
      "[153]\ttraining's binary_error: 0.11259\ttraining's binary_logloss: 0.225205\tvalid_1's binary_error: 0.11157\tvalid_1's binary_logloss: 0.223388\n",
      "[154]\ttraining's binary_error: 0.112405\ttraining's binary_logloss: 0.224782\tvalid_1's binary_error: 0.111362\tvalid_1's binary_logloss: 0.222961\n",
      "[155]\ttraining's binary_error: 0.112345\ttraining's binary_logloss: 0.224635\tvalid_1's binary_error: 0.111307\tvalid_1's binary_logloss: 0.222816\n",
      "[156]\ttraining's binary_error: 0.112327\ttraining's binary_logloss: 0.224539\tvalid_1's binary_error: 0.111221\tvalid_1's binary_logloss: 0.222734\n",
      "[157]\ttraining's binary_error: 0.11209\ttraining's binary_logloss: 0.224182\tvalid_1's binary_error: 0.111099\tvalid_1's binary_logloss: 0.222404\n",
      "[158]\ttraining's binary_error: 0.111863\ttraining's binary_logloss: 0.223806\tvalid_1's binary_error: 0.110845\tvalid_1's binary_logloss: 0.222038\n",
      "[159]\ttraining's binary_error: 0.111807\ttraining's binary_logloss: 0.223605\tvalid_1's binary_error: 0.110705\tvalid_1's binary_logloss: 0.221844\n",
      "[160]\ttraining's binary_error: 0.111508\ttraining's binary_logloss: 0.223232\tvalid_1's binary_error: 0.11056\tvalid_1's binary_logloss: 0.221479\n",
      "[161]\ttraining's binary_error: 0.111412\ttraining's binary_logloss: 0.223118\tvalid_1's binary_error: 0.110433\tvalid_1's binary_logloss: 0.221368\n",
      "[162]\ttraining's binary_error: 0.111327\ttraining's binary_logloss: 0.222966\tvalid_1's binary_error: 0.110456\tvalid_1's binary_logloss: 0.221225\n",
      "[163]\ttraining's binary_error: 0.111296\ttraining's binary_logloss: 0.222855\tvalid_1's binary_error: 0.110379\tvalid_1's binary_logloss: 0.221123\n",
      "[164]\ttraining's binary_error: 0.111233\ttraining's binary_logloss: 0.222763\tvalid_1's binary_error: 0.110306\tvalid_1's binary_logloss: 0.221043\n",
      "[165]\ttraining's binary_error: 0.111184\ttraining's binary_logloss: 0.222725\tvalid_1's binary_error: 0.110302\tvalid_1's binary_logloss: 0.221032\n",
      "[166]\ttraining's binary_error: 0.111186\ttraining's binary_logloss: 0.222699\tvalid_1's binary_error: 0.110306\tvalid_1's binary_logloss: 0.221032\n",
      "[167]\ttraining's binary_error: 0.110948\ttraining's binary_logloss: 0.222293\tvalid_1's binary_error: 0.110143\tvalid_1's binary_logloss: 0.22062\n",
      "[168]\ttraining's binary_error: 0.110812\ttraining's binary_logloss: 0.221987\tvalid_1's binary_error: 0.109953\tvalid_1's binary_logloss: 0.220311\n",
      "[169]\ttraining's binary_error: 0.110662\ttraining's binary_logloss: 0.221794\tvalid_1's binary_error: 0.109907\tvalid_1's binary_logloss: 0.22012\n",
      "[170]\ttraining's binary_error: 0.110631\ttraining's binary_logloss: 0.221704\tvalid_1's binary_error: 0.109848\tvalid_1's binary_logloss: 0.220037\n",
      "[171]\ttraining's binary_error: 0.110385\ttraining's binary_logloss: 0.221315\tvalid_1's binary_error: 0.109563\tvalid_1's binary_logloss: 0.219664\n",
      "[172]\ttraining's binary_error: 0.110341\ttraining's binary_logloss: 0.221273\tvalid_1's binary_error: 0.109554\tvalid_1's binary_logloss: 0.219634\n",
      "[173]\ttraining's binary_error: 0.110336\ttraining's binary_logloss: 0.221176\tvalid_1's binary_error: 0.109549\tvalid_1's binary_logloss: 0.219551\n",
      "[174]\ttraining's binary_error: 0.11033\ttraining's binary_logloss: 0.221131\tvalid_1's binary_error: 0.109559\tvalid_1's binary_logloss: 0.219528\n",
      "[175]\ttraining's binary_error: 0.110285\ttraining's binary_logloss: 0.221051\tvalid_1's binary_error: 0.109545\tvalid_1's binary_logloss: 0.21946\n"
     ]
    },
    {
     "name": "stdout",
     "output_type": "stream",
     "text": [
      "[176]\ttraining's binary_error: 0.110198\ttraining's binary_logloss: 0.220933\tvalid_1's binary_error: 0.109527\tvalid_1's binary_logloss: 0.219349\n",
      "[177]\ttraining's binary_error: 0.11022\ttraining's binary_logloss: 0.220893\tvalid_1's binary_error: 0.109536\tvalid_1's binary_logloss: 0.219327\n",
      "[178]\ttraining's binary_error: 0.109975\ttraining's binary_logloss: 0.220697\tvalid_1's binary_error: 0.109377\tvalid_1's binary_logloss: 0.219127\n",
      "[179]\ttraining's binary_error: 0.109955\ttraining's binary_logloss: 0.220531\tvalid_1's binary_error: 0.109305\tvalid_1's binary_logloss: 0.218969\n",
      "[180]\ttraining's binary_error: 0.109939\ttraining's binary_logloss: 0.2205\tvalid_1's binary_error: 0.109305\tvalid_1's binary_logloss: 0.218957\n",
      "[181]\ttraining's binary_error: 0.109756\ttraining's binary_logloss: 0.220227\tvalid_1's binary_error: 0.109083\tvalid_1's binary_logloss: 0.218671\n",
      "[182]\ttraining's binary_error: 0.109747\ttraining's binary_logloss: 0.220193\tvalid_1's binary_error: 0.109078\tvalid_1's binary_logloss: 0.218659\n",
      "[183]\ttraining's binary_error: 0.109653\ttraining's binary_logloss: 0.219952\tvalid_1's binary_error: 0.109001\tvalid_1's binary_logloss: 0.218431\n",
      "[184]\ttraining's binary_error: 0.109602\ttraining's binary_logloss: 0.219816\tvalid_1's binary_error: 0.108942\tvalid_1's binary_logloss: 0.218307\n",
      "[185]\ttraining's binary_error: 0.109394\ttraining's binary_logloss: 0.219554\tvalid_1's binary_error: 0.108815\tvalid_1's binary_logloss: 0.21803\n",
      "[186]\ttraining's binary_error: 0.109352\ttraining's binary_logloss: 0.219488\tvalid_1's binary_error: 0.108725\tvalid_1's binary_logloss: 0.217985\n",
      "[187]\ttraining's binary_error: 0.109274\ttraining's binary_logloss: 0.219313\tvalid_1's binary_error: 0.10863\tvalid_1's binary_logloss: 0.217828\n",
      "[188]\ttraining's binary_error: 0.109142\ttraining's binary_logloss: 0.219128\tvalid_1's binary_error: 0.108562\tvalid_1's binary_logloss: 0.217649\n",
      "[189]\ttraining's binary_error: 0.109055\ttraining's binary_logloss: 0.218828\tvalid_1's binary_error: 0.108462\tvalid_1's binary_logloss: 0.217362\n",
      "[190]\ttraining's binary_error: 0.108756\ttraining's binary_logloss: 0.218405\tvalid_1's binary_error: 0.108222\tvalid_1's binary_logloss: 0.216963\n",
      "[191]\ttraining's binary_error: 0.108765\ttraining's binary_logloss: 0.218341\tvalid_1's binary_error: 0.108199\tvalid_1's binary_logloss: 0.216917\n",
      "[192]\ttraining's binary_error: 0.108631\ttraining's binary_logloss: 0.21814\tvalid_1's binary_error: 0.108158\tvalid_1's binary_logloss: 0.216726\n",
      "[193]\ttraining's binary_error: 0.108618\ttraining's binary_logloss: 0.218079\tvalid_1's binary_error: 0.108163\tvalid_1's binary_logloss: 0.216691\n",
      "[194]\ttraining's binary_error: 0.1086\ttraining's binary_logloss: 0.218051\tvalid_1's binary_error: 0.108149\tvalid_1's binary_logloss: 0.21668\n",
      "[195]\ttraining's binary_error: 0.108502\ttraining's binary_logloss: 0.217919\tvalid_1's binary_error: 0.108136\tvalid_1's binary_logloss: 0.216547\n",
      "[196]\ttraining's binary_error: 0.108522\ttraining's binary_logloss: 0.217805\tvalid_1's binary_error: 0.108041\tvalid_1's binary_logloss: 0.216449\n",
      "[197]\ttraining's binary_error: 0.108395\ttraining's binary_logloss: 0.217723\tvalid_1's binary_error: 0.107945\tvalid_1's binary_logloss: 0.216382\n",
      "[198]\ttraining's binary_error: 0.108323\ttraining's binary_logloss: 0.21761\tvalid_1's binary_error: 0.107859\tvalid_1's binary_logloss: 0.216278\n",
      "[199]\ttraining's binary_error: 0.108261\ttraining's binary_logloss: 0.217545\tvalid_1's binary_error: 0.107751\tvalid_1's binary_logloss: 0.216231\n",
      "[200]\ttraining's binary_error: 0.108274\ttraining's binary_logloss: 0.217519\tvalid_1's binary_error: 0.107683\tvalid_1's binary_logloss: 0.216215\n",
      "[201]\ttraining's binary_error: 0.108136\ttraining's binary_logloss: 0.217341\tvalid_1's binary_error: 0.107578\tvalid_1's binary_logloss: 0.216034\n",
      "[202]\ttraining's binary_error: 0.108147\ttraining's binary_logloss: 0.21724\tvalid_1's binary_error: 0.107515\tvalid_1's binary_logloss: 0.215944\n",
      "[203]\ttraining's binary_error: 0.108116\ttraining's binary_logloss: 0.217209\tvalid_1's binary_error: 0.107529\tvalid_1's binary_logloss: 0.215936\n",
      "[204]\ttraining's binary_error: 0.107982\ttraining's binary_logloss: 0.217043\tvalid_1's binary_error: 0.107343\tvalid_1's binary_logloss: 0.215773\n",
      "[205]\ttraining's binary_error: 0.107926\ttraining's binary_logloss: 0.216948\tvalid_1's binary_error: 0.107388\tvalid_1's binary_logloss: 0.215694\n",
      "[206]\ttraining's binary_error: 0.107877\ttraining's binary_logloss: 0.216877\tvalid_1's binary_error: 0.107379\tvalid_1's binary_logloss: 0.215623\n",
      "[207]\ttraining's binary_error: 0.107792\ttraining's binary_logloss: 0.216682\tvalid_1's binary_error: 0.107316\tvalid_1's binary_logloss: 0.215434\n",
      "[208]\ttraining's binary_error: 0.107676\ttraining's binary_logloss: 0.216536\tvalid_1's binary_error: 0.107211\tvalid_1's binary_logloss: 0.215293\n",
      "[209]\ttraining's binary_error: 0.107652\ttraining's binary_logloss: 0.21649\tvalid_1's binary_error: 0.107202\tvalid_1's binary_logloss: 0.215253\n",
      "[210]\ttraining's binary_error: 0.107647\ttraining's binary_logloss: 0.216422\tvalid_1's binary_error: 0.107184\tvalid_1's binary_logloss: 0.2152\n",
      "[211]\ttraining's binary_error: 0.107654\ttraining's binary_logloss: 0.216394\tvalid_1's binary_error: 0.107125\tvalid_1's binary_logloss: 0.215187\n",
      "[212]\ttraining's binary_error: 0.107448\ttraining's binary_logloss: 0.216004\tvalid_1's binary_error: 0.106985\tvalid_1's binary_logloss: 0.214818\n",
      "[213]\ttraining's binary_error: 0.107428\ttraining's binary_logloss: 0.21595\tvalid_1's binary_error: 0.10694\tvalid_1's binary_logloss: 0.21477\n",
      "[214]\ttraining's binary_error: 0.107393\ttraining's binary_logloss: 0.215915\tvalid_1's binary_error: 0.106967\tvalid_1's binary_logloss: 0.214735\n",
      "[215]\ttraining's binary_error: 0.107348\ttraining's binary_logloss: 0.21579\tvalid_1's binary_error: 0.106867\tvalid_1's binary_logloss: 0.214623\n",
      "[216]\ttraining's binary_error: 0.107301\ttraining's binary_logloss: 0.215707\tvalid_1's binary_error: 0.106962\tvalid_1's binary_logloss: 0.214555\n",
      "[217]\ttraining's binary_error: 0.107232\ttraining's binary_logloss: 0.215539\tvalid_1's binary_error: 0.106894\tvalid_1's binary_logloss: 0.2144\n",
      "[218]\ttraining's binary_error: 0.107174\ttraining's binary_logloss: 0.21545\tvalid_1's binary_error: 0.106813\tvalid_1's binary_logloss: 0.214329\n",
      "[219]\ttraining's binary_error: 0.107149\ttraining's binary_logloss: 0.215426\tvalid_1's binary_error: 0.106808\tvalid_1's binary_logloss: 0.214321\n",
      "[220]\ttraining's binary_error: 0.107056\ttraining's binary_logloss: 0.215306\tvalid_1's binary_error: 0.106754\tvalid_1's binary_logloss: 0.214202\n",
      "[221]\ttraining's binary_error: 0.107062\ttraining's binary_logloss: 0.215225\tvalid_1's binary_error: 0.106745\tvalid_1's binary_logloss: 0.214134\n",
      "[222]\ttraining's binary_error: 0.106998\ttraining's binary_logloss: 0.215046\tvalid_1's binary_error: 0.10669\tvalid_1's binary_logloss: 0.213959\n",
      "[223]\ttraining's binary_error: 0.106832\ttraining's binary_logloss: 0.214713\tvalid_1's binary_error: 0.106487\tvalid_1's binary_logloss: 0.21364\n",
      "[224]\ttraining's binary_error: 0.106754\ttraining's binary_logloss: 0.214455\tvalid_1's binary_error: 0.106351\tvalid_1's binary_logloss: 0.21338\n",
      "[225]\ttraining's binary_error: 0.106656\ttraining's binary_logloss: 0.214386\tvalid_1's binary_error: 0.106364\tvalid_1's binary_logloss: 0.213327\n",
      "[226]\ttraining's binary_error: 0.106607\ttraining's binary_logloss: 0.214287\tvalid_1's binary_error: 0.10636\tvalid_1's binary_logloss: 0.213242\n",
      "[227]\ttraining's binary_error: 0.106614\ttraining's binary_logloss: 0.214266\tvalid_1's binary_error: 0.106292\tvalid_1's binary_logloss: 0.213245\n",
      "[228]\ttraining's binary_error: 0.1066\ttraining's binary_logloss: 0.214222\tvalid_1's binary_error: 0.106292\tvalid_1's binary_logloss: 0.213207\n",
      "[229]\ttraining's binary_error: 0.106605\ttraining's binary_logloss: 0.214128\tvalid_1's binary_error: 0.106314\tvalid_1's binary_logloss: 0.213127\n",
      "[230]\ttraining's binary_error: 0.106467\ttraining's binary_logloss: 0.213896\tvalid_1's binary_error: 0.106206\tvalid_1's binary_logloss: 0.212905\n",
      "[231]\ttraining's binary_error: 0.106449\ttraining's binary_logloss: 0.213839\tvalid_1's binary_error: 0.10616\tvalid_1's binary_logloss: 0.212856\n",
      "[232]\ttraining's binary_error: 0.106393\ttraining's binary_logloss: 0.213659\tvalid_1's binary_error: 0.106092\tvalid_1's binary_logloss: 0.212683\n",
      "[233]\ttraining's binary_error: 0.106355\ttraining's binary_logloss: 0.21356\tvalid_1's binary_error: 0.106002\tvalid_1's binary_logloss: 0.212593\n",
      "[234]\ttraining's binary_error: 0.106266\ttraining's binary_logloss: 0.213373\tvalid_1's binary_error: 0.105888\tvalid_1's binary_logloss: 0.212408\n"
     ]
    },
    {
     "name": "stdout",
     "output_type": "stream",
     "text": [
      "[235]\ttraining's binary_error: 0.106243\ttraining's binary_logloss: 0.213303\tvalid_1's binary_error: 0.105848\tvalid_1's binary_logloss: 0.212349\n",
      "[236]\ttraining's binary_error: 0.106152\ttraining's binary_logloss: 0.213131\tvalid_1's binary_error: 0.105698\tvalid_1's binary_logloss: 0.212182\n",
      "[237]\ttraining's binary_error: 0.106076\ttraining's binary_logloss: 0.213029\tvalid_1's binary_error: 0.105612\tvalid_1's binary_logloss: 0.212087\n",
      "[238]\ttraining's binary_error: 0.106085\ttraining's binary_logloss: 0.212984\tvalid_1's binary_error: 0.105626\tvalid_1's binary_logloss: 0.212045\n",
      "[239]\ttraining's binary_error: 0.106009\ttraining's binary_logloss: 0.212815\tvalid_1's binary_error: 0.105589\tvalid_1's binary_logloss: 0.211894\n",
      "[240]\ttraining's binary_error: 0.106007\ttraining's binary_logloss: 0.212765\tvalid_1's binary_error: 0.105576\tvalid_1's binary_logloss: 0.211853\n",
      "[241]\ttraining's binary_error: 0.105976\ttraining's binary_logloss: 0.212728\tvalid_1's binary_error: 0.105608\tvalid_1's binary_logloss: 0.211831\n",
      "[242]\ttraining's binary_error: 0.105993\ttraining's binary_logloss: 0.212712\tvalid_1's binary_error: 0.105608\tvalid_1's binary_logloss: 0.211824\n",
      "[243]\ttraining's binary_error: 0.105991\ttraining's binary_logloss: 0.212697\tvalid_1's binary_error: 0.105612\tvalid_1's binary_logloss: 0.211815\n",
      "[244]\ttraining's binary_error: 0.10583\ttraining's binary_logloss: 0.212411\tvalid_1's binary_error: 0.105399\tvalid_1's binary_logloss: 0.211545\n",
      "[245]\ttraining's binary_error: 0.105855\ttraining's binary_logloss: 0.212381\tvalid_1's binary_error: 0.105395\tvalid_1's binary_logloss: 0.211529\n",
      "[246]\ttraining's binary_error: 0.105848\ttraining's binary_logloss: 0.212366\tvalid_1's binary_error: 0.105404\tvalid_1's binary_logloss: 0.211527\n",
      "[247]\ttraining's binary_error: 0.105795\ttraining's binary_logloss: 0.2123\tvalid_1's binary_error: 0.105358\tvalid_1's binary_logloss: 0.211471\n",
      "[248]\ttraining's binary_error: 0.105808\ttraining's binary_logloss: 0.212274\tvalid_1's binary_error: 0.105327\tvalid_1's binary_logloss: 0.211467\n",
      "[249]\ttraining's binary_error: 0.105781\ttraining's binary_logloss: 0.212238\tvalid_1's binary_error: 0.105336\tvalid_1's binary_logloss: 0.211446\n",
      "[250]\ttraining's binary_error: 0.105808\ttraining's binary_logloss: 0.212198\tvalid_1's binary_error: 0.105308\tvalid_1's binary_logloss: 0.211413\n",
      "[251]\ttraining's binary_error: 0.105728\ttraining's binary_logloss: 0.212154\tvalid_1's binary_error: 0.10525\tvalid_1's binary_logloss: 0.211379\n",
      "[252]\ttraining's binary_error: 0.105728\ttraining's binary_logloss: 0.212117\tvalid_1's binary_error: 0.105277\tvalid_1's binary_logloss: 0.211357\n",
      "[253]\ttraining's binary_error: 0.105728\ttraining's binary_logloss: 0.212097\tvalid_1's binary_error: 0.105268\tvalid_1's binary_logloss: 0.211359\n",
      "[254]\ttraining's binary_error: 0.105701\ttraining's binary_logloss: 0.212017\tvalid_1's binary_error: 0.105204\tvalid_1's binary_logloss: 0.211291\n",
      "[255]\ttraining's binary_error: 0.105665\ttraining's binary_logloss: 0.211854\tvalid_1's binary_error: 0.105109\tvalid_1's binary_logloss: 0.211137\n",
      "[256]\ttraining's binary_error: 0.105703\ttraining's binary_logloss: 0.211769\tvalid_1's binary_error: 0.105064\tvalid_1's binary_logloss: 0.211058\n",
      "[257]\ttraining's binary_error: 0.105692\ttraining's binary_logloss: 0.211749\tvalid_1's binary_error: 0.105068\tvalid_1's binary_logloss: 0.211047\n",
      "[258]\ttraining's binary_error: 0.105618\ttraining's binary_logloss: 0.211673\tvalid_1's binary_error: 0.105009\tvalid_1's binary_logloss: 0.210988\n",
      "[259]\ttraining's binary_error: 0.105612\ttraining's binary_logloss: 0.211659\tvalid_1's binary_error: 0.104969\tvalid_1's binary_logloss: 0.210993\n",
      "[260]\ttraining's binary_error: 0.105632\ttraining's binary_logloss: 0.211633\tvalid_1's binary_error: 0.104987\tvalid_1's binary_logloss: 0.210984\n",
      "[261]\ttraining's binary_error: 0.105647\ttraining's binary_logloss: 0.211568\tvalid_1's binary_error: 0.104901\tvalid_1's binary_logloss: 0.210944\n",
      "[262]\ttraining's binary_error: 0.105518\ttraining's binary_logloss: 0.211323\tvalid_1's binary_error: 0.104706\tvalid_1's binary_logloss: 0.21071\n",
      "[263]\ttraining's binary_error: 0.10546\ttraining's binary_logloss: 0.211246\tvalid_1's binary_error: 0.104729\tvalid_1's binary_logloss: 0.210642\n",
      "[264]\ttraining's binary_error: 0.105422\ttraining's binary_logloss: 0.211139\tvalid_1's binary_error: 0.10471\tvalid_1's binary_logloss: 0.210545\n",
      "[265]\ttraining's binary_error: 0.105384\ttraining's binary_logloss: 0.211075\tvalid_1's binary_error: 0.104688\tvalid_1's binary_logloss: 0.210485\n",
      "[266]\ttraining's binary_error: 0.105353\ttraining's binary_logloss: 0.21102\tvalid_1's binary_error: 0.104642\tvalid_1's binary_logloss: 0.210441\n",
      "[267]\ttraining's binary_error: 0.105315\ttraining's binary_logloss: 0.210887\tvalid_1's binary_error: 0.104633\tvalid_1's binary_logloss: 0.210313\n",
      "[268]\ttraining's binary_error: 0.105288\ttraining's binary_logloss: 0.210832\tvalid_1's binary_error: 0.104633\tvalid_1's binary_logloss: 0.210272\n",
      "[269]\ttraining's binary_error: 0.105255\ttraining's binary_logloss: 0.210791\tvalid_1's binary_error: 0.104647\tvalid_1's binary_logloss: 0.210245\n",
      "[270]\ttraining's binary_error: 0.105252\ttraining's binary_logloss: 0.210683\tvalid_1's binary_error: 0.104584\tvalid_1's binary_logloss: 0.210144\n",
      "[271]\ttraining's binary_error: 0.105255\ttraining's binary_logloss: 0.210621\tvalid_1's binary_error: 0.104593\tvalid_1's binary_logloss: 0.21009\n",
      "[272]\ttraining's binary_error: 0.105239\ttraining's binary_logloss: 0.2106\tvalid_1's binary_error: 0.104602\tvalid_1's binary_logloss: 0.210077\n",
      "[273]\ttraining's binary_error: 0.105157\ttraining's binary_logloss: 0.210408\tvalid_1's binary_error: 0.104565\tvalid_1's binary_logloss: 0.209891\n",
      "[274]\ttraining's binary_error: 0.105103\ttraining's binary_logloss: 0.210352\tvalid_1's binary_error: 0.104457\tvalid_1's binary_logloss: 0.209833\n",
      "[275]\ttraining's binary_error: 0.105081\ttraining's binary_logloss: 0.210171\tvalid_1's binary_error: 0.104375\tvalid_1's binary_logloss: 0.209647\n",
      "[276]\ttraining's binary_error: 0.105076\ttraining's binary_logloss: 0.210148\tvalid_1's binary_error: 0.10438\tvalid_1's binary_logloss: 0.209638\n",
      "[277]\ttraining's binary_error: 0.105005\ttraining's binary_logloss: 0.210018\tvalid_1's binary_error: 0.104325\tvalid_1's binary_logloss: 0.209504\n",
      "[278]\ttraining's binary_error: 0.105003\ttraining's binary_logloss: 0.209997\tvalid_1's binary_error: 0.104321\tvalid_1's binary_logloss: 0.20949\n",
      "[279]\ttraining's binary_error: 0.104996\ttraining's binary_logloss: 0.209963\tvalid_1's binary_error: 0.104312\tvalid_1's binary_logloss: 0.209466\n",
      "[280]\ttraining's binary_error: 0.104996\ttraining's binary_logloss: 0.209945\tvalid_1's binary_error: 0.104303\tvalid_1's binary_logloss: 0.209471\n",
      "[281]\ttraining's binary_error: 0.10494\ttraining's binary_logloss: 0.209911\tvalid_1's binary_error: 0.104321\tvalid_1's binary_logloss: 0.209446\n",
      "[282]\ttraining's binary_error: 0.104907\ttraining's binary_logloss: 0.209857\tvalid_1's binary_error: 0.104262\tvalid_1's binary_logloss: 0.2094\n",
      "[283]\ttraining's binary_error: 0.104826\ttraining's binary_logloss: 0.209693\tvalid_1's binary_error: 0.104239\tvalid_1's binary_logloss: 0.209231\n",
      "[284]\ttraining's binary_error: 0.104808\ttraining's binary_logloss: 0.209674\tvalid_1's binary_error: 0.104217\tvalid_1's binary_logloss: 0.209225\n",
      "[285]\ttraining's binary_error: 0.104782\ttraining's binary_logloss: 0.209622\tvalid_1's binary_error: 0.104221\tvalid_1's binary_logloss: 0.209189\n",
      "[286]\ttraining's binary_error: 0.104697\ttraining's binary_logloss: 0.20947\tvalid_1's binary_error: 0.104171\tvalid_1's binary_logloss: 0.209053\n",
      "[287]\ttraining's binary_error: 0.104663\ttraining's binary_logloss: 0.209337\tvalid_1's binary_error: 0.104112\tvalid_1's binary_logloss: 0.208927\n",
      "[288]\ttraining's binary_error: 0.104587\ttraining's binary_logloss: 0.209252\tvalid_1's binary_error: 0.10404\tvalid_1's binary_logloss: 0.208841\n",
      "[289]\ttraining's binary_error: 0.104616\ttraining's binary_logloss: 0.209211\tvalid_1's binary_error: 0.104081\tvalid_1's binary_logloss: 0.208816\n",
      "[290]\ttraining's binary_error: 0.104561\ttraining's binary_logloss: 0.209081\tvalid_1's binary_error: 0.104017\tvalid_1's binary_logloss: 0.208685\n",
      "[291]\ttraining's binary_error: 0.104561\ttraining's binary_logloss: 0.208991\tvalid_1's binary_error: 0.103985\tvalid_1's binary_logloss: 0.208605\n",
      "[292]\ttraining's binary_error: 0.104529\ttraining's binary_logloss: 0.208953\tvalid_1's binary_error: 0.103922\tvalid_1's binary_logloss: 0.208575\n",
      "[293]\ttraining's binary_error: 0.104485\ttraining's binary_logloss: 0.208847\tvalid_1's binary_error: 0.103831\tvalid_1's binary_logloss: 0.208478\n",
      "[294]\ttraining's binary_error: 0.104462\ttraining's binary_logloss: 0.20881\tvalid_1's binary_error: 0.103863\tvalid_1's binary_logloss: 0.20846\n",
      "[295]\ttraining's binary_error: 0.104427\ttraining's binary_logloss: 0.208608\tvalid_1's binary_error: 0.103822\tvalid_1's binary_logloss: 0.208274\n",
      "[296]\ttraining's binary_error: 0.104469\ttraining's binary_logloss: 0.208556\tvalid_1's binary_error: 0.103881\tvalid_1's binary_logloss: 0.208236\n",
      "[297]\ttraining's binary_error: 0.104458\ttraining's binary_logloss: 0.208491\tvalid_1's binary_error: 0.103877\tvalid_1's binary_logloss: 0.208177\n",
      "[298]\ttraining's binary_error: 0.104413\ttraining's binary_logloss: 0.208422\tvalid_1's binary_error: 0.103863\tvalid_1's binary_logloss: 0.208115\n",
      "[299]\ttraining's binary_error: 0.104422\ttraining's binary_logloss: 0.208395\tvalid_1's binary_error: 0.103877\tvalid_1's binary_logloss: 0.208101\n",
      "[300]\ttraining's binary_error: 0.1044\ttraining's binary_logloss: 0.208372\tvalid_1's binary_error: 0.103795\tvalid_1's binary_logloss: 0.208093\n",
      "[301]\ttraining's binary_error: 0.104373\ttraining's binary_logloss: 0.208309\tvalid_1's binary_error: 0.103777\tvalid_1's binary_logloss: 0.208041\n",
      "[302]\ttraining's binary_error: 0.104369\ttraining's binary_logloss: 0.208296\tvalid_1's binary_error: 0.103759\tvalid_1's binary_logloss: 0.208037\n",
      "[303]\ttraining's binary_error: 0.104293\ttraining's binary_logloss: 0.208197\tvalid_1's binary_error: 0.103714\tvalid_1's binary_logloss: 0.207954\n",
      "[304]\ttraining's binary_error: 0.104282\ttraining's binary_logloss: 0.208185\tvalid_1's binary_error: 0.103682\tvalid_1's binary_logloss: 0.207953\n",
      "[305]\ttraining's binary_error: 0.104266\ttraining's binary_logloss: 0.208141\tvalid_1's binary_error: 0.103632\tvalid_1's binary_logloss: 0.207924\n",
      "[306]\ttraining's binary_error: 0.104163\ttraining's binary_logloss: 0.207951\tvalid_1's binary_error: 0.103564\tvalid_1's binary_logloss: 0.207752\n",
      "[307]\ttraining's binary_error: 0.104183\ttraining's binary_logloss: 0.207927\tvalid_1's binary_error: 0.103564\tvalid_1's binary_logloss: 0.207746\n",
      "[308]\ttraining's binary_error: 0.104159\ttraining's binary_logloss: 0.207855\tvalid_1's binary_error: 0.103564\tvalid_1's binary_logloss: 0.207679\n",
      "[309]\ttraining's binary_error: 0.104166\ttraining's binary_logloss: 0.207839\tvalid_1's binary_error: 0.103541\tvalid_1's binary_logloss: 0.207687\n",
      "[310]\ttraining's binary_error: 0.104121\ttraining's binary_logloss: 0.20774\tvalid_1's binary_error: 0.103555\tvalid_1's binary_logloss: 0.207597\n",
      "[311]\ttraining's binary_error: 0.104123\ttraining's binary_logloss: 0.207698\tvalid_1's binary_error: 0.103564\tvalid_1's binary_logloss: 0.207571\n",
      "[312]\ttraining's binary_error: 0.10407\ttraining's binary_logloss: 0.207651\tvalid_1's binary_error: 0.103546\tvalid_1's binary_logloss: 0.207527\n",
      "[313]\ttraining's binary_error: 0.104061\ttraining's binary_logloss: 0.207542\tvalid_1's binary_error: 0.103541\tvalid_1's binary_logloss: 0.207415\n",
      "[314]\ttraining's binary_error: 0.104012\ttraining's binary_logloss: 0.207512\tvalid_1's binary_error: 0.103532\tvalid_1's binary_logloss: 0.207406\n",
      "[315]\ttraining's binary_error: 0.103987\ttraining's binary_logloss: 0.20747\tvalid_1's binary_error: 0.103587\tvalid_1's binary_logloss: 0.207386\n",
      "[316]\ttraining's binary_error: 0.103987\ttraining's binary_logloss: 0.207337\tvalid_1's binary_error: 0.103528\tvalid_1's binary_logloss: 0.207257\n",
      "[317]\ttraining's binary_error: 0.103983\ttraining's binary_logloss: 0.207311\tvalid_1's binary_error: 0.10356\tvalid_1's binary_logloss: 0.207244\n",
      "[318]\ttraining's binary_error: 0.103954\ttraining's binary_logloss: 0.207232\tvalid_1's binary_error: 0.103482\tvalid_1's binary_logloss: 0.20717\n",
      "[319]\ttraining's binary_error: 0.103947\ttraining's binary_logloss: 0.207215\tvalid_1's binary_error: 0.103482\tvalid_1's binary_logloss: 0.207172\n",
      "[320]\ttraining's binary_error: 0.103947\ttraining's binary_logloss: 0.207166\tvalid_1's binary_error: 0.10341\tvalid_1's binary_logloss: 0.207124\n",
      "[321]\ttraining's binary_error: 0.103958\ttraining's binary_logloss: 0.207123\tvalid_1's binary_error: 0.103437\tvalid_1's binary_logloss: 0.207093\n",
      "[322]\ttraining's binary_error: 0.103869\ttraining's binary_logloss: 0.207034\tvalid_1's binary_error: 0.103356\tvalid_1's binary_logloss: 0.20702\n",
      "[323]\ttraining's binary_error: 0.103898\ttraining's binary_logloss: 0.206986\tvalid_1's binary_error: 0.103356\tvalid_1's binary_logloss: 0.206987\n",
      "[324]\ttraining's binary_error: 0.103893\ttraining's binary_logloss: 0.206914\tvalid_1's binary_error: 0.103356\tvalid_1's binary_logloss: 0.20692\n",
      "[325]\ttraining's binary_error: 0.103902\ttraining's binary_logloss: 0.206905\tvalid_1's binary_error: 0.103347\tvalid_1's binary_logloss: 0.206916\n",
      "[326]\ttraining's binary_error: 0.103833\ttraining's binary_logloss: 0.20688\tvalid_1's binary_error: 0.103279\tvalid_1's binary_logloss: 0.206909\n",
      "[327]\ttraining's binary_error: 0.103833\ttraining's binary_logloss: 0.206867\tvalid_1's binary_error: 0.103279\tvalid_1's binary_logloss: 0.206914\n",
      "[328]\ttraining's binary_error: 0.103829\ttraining's binary_logloss: 0.206795\tvalid_1's binary_error: 0.103233\tvalid_1's binary_logloss: 0.206854\n",
      "[329]\ttraining's binary_error: 0.103806\ttraining's binary_logloss: 0.206739\tvalid_1's binary_error: 0.103224\tvalid_1's binary_logloss: 0.206812\n",
      "[330]\ttraining's binary_error: 0.103811\ttraining's binary_logloss: 0.206709\tvalid_1's binary_error: 0.103215\tvalid_1's binary_logloss: 0.206791\n",
      "[331]\ttraining's binary_error: 0.103795\ttraining's binary_logloss: 0.206684\tvalid_1's binary_error: 0.103206\tvalid_1's binary_logloss: 0.206769\n",
      "[332]\ttraining's binary_error: 0.103806\ttraining's binary_logloss: 0.206672\tvalid_1's binary_error: 0.103202\tvalid_1's binary_logloss: 0.206772\n",
      "[333]\ttraining's binary_error: 0.103815\ttraining's binary_logloss: 0.206644\tvalid_1's binary_error: 0.103179\tvalid_1's binary_logloss: 0.206754\n",
      "[334]\ttraining's binary_error: 0.103813\ttraining's binary_logloss: 0.206603\tvalid_1's binary_error: 0.103165\tvalid_1's binary_logloss: 0.206718\n",
      "[335]\ttraining's binary_error: 0.103757\ttraining's binary_logloss: 0.20656\tvalid_1's binary_error: 0.103206\tvalid_1's binary_logloss: 0.206699\n",
      "[336]\ttraining's binary_error: 0.103759\ttraining's binary_logloss: 0.206543\tvalid_1's binary_error: 0.103229\tvalid_1's binary_logloss: 0.206693\n",
      "[337]\ttraining's binary_error: 0.103759\ttraining's binary_logloss: 0.206503\tvalid_1's binary_error: 0.103147\tvalid_1's binary_logloss: 0.206668\n",
      "[338]\ttraining's binary_error: 0.103764\ttraining's binary_logloss: 0.206495\tvalid_1's binary_error: 0.103147\tvalid_1's binary_logloss: 0.206667\n",
      "[339]\ttraining's binary_error: 0.103724\ttraining's binary_logloss: 0.206419\tvalid_1's binary_error: 0.103106\tvalid_1's binary_logloss: 0.206612\n",
      "[340]\ttraining's binary_error: 0.103722\ttraining's binary_logloss: 0.206396\tvalid_1's binary_error: 0.10312\tvalid_1's binary_logloss: 0.206595\n",
      "[341]\ttraining's binary_error: 0.103728\ttraining's binary_logloss: 0.206377\tvalid_1's binary_error: 0.103138\tvalid_1's binary_logloss: 0.206592\n",
      "[342]\ttraining's binary_error: 0.103728\ttraining's binary_logloss: 0.20635\tvalid_1's binary_error: 0.103147\tvalid_1's binary_logloss: 0.206578\n",
      "[343]\ttraining's binary_error: 0.103672\ttraining's binary_logloss: 0.206258\tvalid_1's binary_error: 0.103102\tvalid_1's binary_logloss: 0.20649\n",
      "[344]\ttraining's binary_error: 0.103639\ttraining's binary_logloss: 0.206239\tvalid_1's binary_error: 0.103057\tvalid_1's binary_logloss: 0.206486\n",
      "[345]\ttraining's binary_error: 0.10363\ttraining's binary_logloss: 0.206164\tvalid_1's binary_error: 0.103007\tvalid_1's binary_logloss: 0.206425\n",
      "[346]\ttraining's binary_error: 0.103552\ttraining's binary_logloss: 0.206069\tvalid_1's binary_error: 0.102948\tvalid_1's binary_logloss: 0.206332\n",
      "[347]\ttraining's binary_error: 0.103521\ttraining's binary_logloss: 0.206009\tvalid_1's binary_error: 0.102943\tvalid_1's binary_logloss: 0.206285\n",
      "[348]\ttraining's binary_error: 0.10351\ttraining's binary_logloss: 0.205994\tvalid_1's binary_error: 0.102948\tvalid_1's binary_logloss: 0.206281\n",
      "[349]\ttraining's binary_error: 0.103496\ttraining's binary_logloss: 0.205954\tvalid_1's binary_error: 0.102903\tvalid_1's binary_logloss: 0.206251\n"
     ]
    },
    {
     "name": "stdout",
     "output_type": "stream",
     "text": [
      "[350]\ttraining's binary_error: 0.103505\ttraining's binary_logloss: 0.205936\tvalid_1's binary_error: 0.102907\tvalid_1's binary_logloss: 0.20625\n",
      "[351]\ttraining's binary_error: 0.103489\ttraining's binary_logloss: 0.205876\tvalid_1's binary_error: 0.10288\tvalid_1's binary_logloss: 0.206201\n",
      "[352]\ttraining's binary_error: 0.103487\ttraining's binary_logloss: 0.205856\tvalid_1's binary_error: 0.102952\tvalid_1's binary_logloss: 0.206188\n",
      "[353]\ttraining's binary_error: 0.103445\ttraining's binary_logloss: 0.205757\tvalid_1's binary_error: 0.102884\tvalid_1's binary_logloss: 0.206107\n",
      "[354]\ttraining's binary_error: 0.103434\ttraining's binary_logloss: 0.205737\tvalid_1's binary_error: 0.102893\tvalid_1's binary_logloss: 0.206106\n",
      "[355]\ttraining's binary_error: 0.103467\ttraining's binary_logloss: 0.205713\tvalid_1's binary_error: 0.10293\tvalid_1's binary_logloss: 0.206092\n",
      "[356]\ttraining's binary_error: 0.103331\ttraining's binary_logloss: 0.205641\tvalid_1's binary_error: 0.102794\tvalid_1's binary_logloss: 0.206023\n",
      "[357]\ttraining's binary_error: 0.103353\ttraining's binary_logloss: 0.205628\tvalid_1's binary_error: 0.102798\tvalid_1's binary_logloss: 0.206017\n",
      "[358]\ttraining's binary_error: 0.103338\ttraining's binary_logloss: 0.20562\tvalid_1's binary_error: 0.102812\tvalid_1's binary_logloss: 0.206017\n",
      "[359]\ttraining's binary_error: 0.103318\ttraining's binary_logloss: 0.205539\tvalid_1's binary_error: 0.102776\tvalid_1's binary_logloss: 0.205943\n",
      "[360]\ttraining's binary_error: 0.103295\ttraining's binary_logloss: 0.205425\tvalid_1's binary_error: 0.102776\tvalid_1's binary_logloss: 0.205824\n",
      "[361]\ttraining's binary_error: 0.103304\ttraining's binary_logloss: 0.205396\tvalid_1's binary_error: 0.102767\tvalid_1's binary_logloss: 0.205804\n",
      "[362]\ttraining's binary_error: 0.103327\ttraining's binary_logloss: 0.205379\tvalid_1's binary_error: 0.102794\tvalid_1's binary_logloss: 0.205802\n",
      "[363]\ttraining's binary_error: 0.103329\ttraining's binary_logloss: 0.205334\tvalid_1's binary_error: 0.102794\tvalid_1's binary_logloss: 0.205778\n",
      "[364]\ttraining's binary_error: 0.103295\ttraining's binary_logloss: 0.20531\tvalid_1's binary_error: 0.102789\tvalid_1's binary_logloss: 0.20577\n",
      "[365]\ttraining's binary_error: 0.103293\ttraining's binary_logloss: 0.205283\tvalid_1's binary_error: 0.102794\tvalid_1's binary_logloss: 0.205763\n",
      "[366]\ttraining's binary_error: 0.103237\ttraining's binary_logloss: 0.205259\tvalid_1's binary_error: 0.10273\tvalid_1's binary_logloss: 0.205762\n",
      "[367]\ttraining's binary_error: 0.103202\ttraining's binary_logloss: 0.205231\tvalid_1's binary_error: 0.102726\tvalid_1's binary_logloss: 0.205745\n",
      "[368]\ttraining's binary_error: 0.103202\ttraining's binary_logloss: 0.205207\tvalid_1's binary_error: 0.102726\tvalid_1's binary_logloss: 0.205733\n",
      "[369]\ttraining's binary_error: 0.103195\ttraining's binary_logloss: 0.205189\tvalid_1's binary_error: 0.102721\tvalid_1's binary_logloss: 0.205723\n",
      "[370]\ttraining's binary_error: 0.103217\ttraining's binary_logloss: 0.205132\tvalid_1's binary_error: 0.102676\tvalid_1's binary_logloss: 0.205671\n",
      "[371]\ttraining's binary_error: 0.103175\ttraining's binary_logloss: 0.205115\tvalid_1's binary_error: 0.102681\tvalid_1's binary_logloss: 0.205673\n",
      "[372]\ttraining's binary_error: 0.103181\ttraining's binary_logloss: 0.205093\tvalid_1's binary_error: 0.102708\tvalid_1's binary_logloss: 0.20566\n",
      "[373]\ttraining's binary_error: 0.103164\ttraining's binary_logloss: 0.205051\tvalid_1's binary_error: 0.102739\tvalid_1's binary_logloss: 0.205632\n",
      "[374]\ttraining's binary_error: 0.10311\ttraining's binary_logloss: 0.20494\tvalid_1's binary_error: 0.102667\tvalid_1's binary_logloss: 0.205528\n",
      "[375]\ttraining's binary_error: 0.103083\ttraining's binary_logloss: 0.204933\tvalid_1's binary_error: 0.102662\tvalid_1's binary_logloss: 0.205528\n",
      "[376]\ttraining's binary_error: 0.103094\ttraining's binary_logloss: 0.20491\tvalid_1's binary_error: 0.102681\tvalid_1's binary_logloss: 0.205538\n",
      "[377]\ttraining's binary_error: 0.103081\ttraining's binary_logloss: 0.204898\tvalid_1's binary_error: 0.102662\tvalid_1's binary_logloss: 0.205539\n",
      "[378]\ttraining's binary_error: 0.103092\ttraining's binary_logloss: 0.204884\tvalid_1's binary_error: 0.102694\tvalid_1's binary_logloss: 0.20554\n",
      "[379]\ttraining's binary_error: 0.103074\ttraining's binary_logloss: 0.204808\tvalid_1's binary_error: 0.102653\tvalid_1's binary_logloss: 0.205467\n",
      "[380]\ttraining's binary_error: 0.103103\ttraining's binary_logloss: 0.204787\tvalid_1's binary_error: 0.102685\tvalid_1's binary_logloss: 0.205455\n",
      "[381]\ttraining's binary_error: 0.103128\ttraining's binary_logloss: 0.204745\tvalid_1's binary_error: 0.10269\tvalid_1's binary_logloss: 0.205434\n",
      "[382]\ttraining's binary_error: 0.103123\ttraining's binary_logloss: 0.204715\tvalid_1's binary_error: 0.102685\tvalid_1's binary_logloss: 0.205414\n",
      "[383]\ttraining's binary_error: 0.103059\ttraining's binary_logloss: 0.204691\tvalid_1's binary_error: 0.102676\tvalid_1's binary_logloss: 0.205409\n",
      "[384]\ttraining's binary_error: 0.103019\ttraining's binary_logloss: 0.204653\tvalid_1's binary_error: 0.102658\tvalid_1's binary_logloss: 0.205387\n",
      "[385]\ttraining's binary_error: 0.103043\ttraining's binary_logloss: 0.204645\tvalid_1's binary_error: 0.102712\tvalid_1's binary_logloss: 0.205393\n",
      "[386]\ttraining's binary_error: 0.103057\ttraining's binary_logloss: 0.204622\tvalid_1's binary_error: 0.102703\tvalid_1's binary_logloss: 0.205389\n",
      "[387]\ttraining's binary_error: 0.102992\ttraining's binary_logloss: 0.204513\tvalid_1's binary_error: 0.102603\tvalid_1's binary_logloss: 0.205288\n",
      "[388]\ttraining's binary_error: 0.10299\ttraining's binary_logloss: 0.204499\tvalid_1's binary_error: 0.102594\tvalid_1's binary_logloss: 0.205288\n",
      "[389]\ttraining's binary_error: 0.102985\ttraining's binary_logloss: 0.204469\tvalid_1's binary_error: 0.102608\tvalid_1's binary_logloss: 0.205268\n",
      "[390]\ttraining's binary_error: 0.102943\ttraining's binary_logloss: 0.204413\tvalid_1's binary_error: 0.102594\tvalid_1's binary_logloss: 0.205228\n",
      "[391]\ttraining's binary_error: 0.102952\ttraining's binary_logloss: 0.204389\tvalid_1's binary_error: 0.102572\tvalid_1's binary_logloss: 0.205215\n",
      "[392]\ttraining's binary_error: 0.102961\ttraining's binary_logloss: 0.204374\tvalid_1's binary_error: 0.102563\tvalid_1's binary_logloss: 0.205212\n",
      "[393]\ttraining's binary_error: 0.10294\ttraining's binary_logloss: 0.204345\tvalid_1's binary_error: 0.102549\tvalid_1's binary_logloss: 0.205195\n",
      "[394]\ttraining's binary_error: 0.102907\ttraining's binary_logloss: 0.204273\tvalid_1's binary_error: 0.102526\tvalid_1's binary_logloss: 0.20513\n",
      "[395]\ttraining's binary_error: 0.102969\ttraining's binary_logloss: 0.204265\tvalid_1's binary_error: 0.102563\tvalid_1's binary_logloss: 0.205121\n",
      "[396]\ttraining's binary_error: 0.102963\ttraining's binary_logloss: 0.204232\tvalid_1's binary_error: 0.102554\tvalid_1's binary_logloss: 0.2051\n",
      "[397]\ttraining's binary_error: 0.102945\ttraining's binary_logloss: 0.204219\tvalid_1's binary_error: 0.102549\tvalid_1's binary_logloss: 0.205101\n",
      "[398]\ttraining's binary_error: 0.102952\ttraining's binary_logloss: 0.204198\tvalid_1's binary_error: 0.102531\tvalid_1's binary_logloss: 0.205092\n",
      "[399]\ttraining's binary_error: 0.102903\ttraining's binary_logloss: 0.204145\tvalid_1's binary_error: 0.102495\tvalid_1's binary_logloss: 0.205052\n",
      "[400]\ttraining's binary_error: 0.10288\ttraining's binary_logloss: 0.204032\tvalid_1's binary_error: 0.102477\tvalid_1's binary_logloss: 0.204937\n",
      "[401]\ttraining's binary_error: 0.102878\ttraining's binary_logloss: 0.203976\tvalid_1's binary_error: 0.102477\tvalid_1's binary_logloss: 0.204889\n",
      "[402]\ttraining's binary_error: 0.102882\ttraining's binary_logloss: 0.203959\tvalid_1's binary_error: 0.102477\tvalid_1's binary_logloss: 0.204882\n",
      "[403]\ttraining's binary_error: 0.102786\ttraining's binary_logloss: 0.203897\tvalid_1's binary_error: 0.102436\tvalid_1's binary_logloss: 0.204825\n",
      "[404]\ttraining's binary_error: 0.102769\ttraining's binary_logloss: 0.203852\tvalid_1's binary_error: 0.102413\tvalid_1's binary_logloss: 0.204784\n",
      "[405]\ttraining's binary_error: 0.1028\ttraining's binary_logloss: 0.203826\tvalid_1's binary_error: 0.102422\tvalid_1's binary_logloss: 0.204761\n",
      "[406]\ttraining's binary_error: 0.102791\ttraining's binary_logloss: 0.203801\tvalid_1's binary_error: 0.102386\tvalid_1's binary_logloss: 0.204751\n",
      "[407]\ttraining's binary_error: 0.102769\ttraining's binary_logloss: 0.20372\tvalid_1's binary_error: 0.10235\tvalid_1's binary_logloss: 0.204676\n",
      "[408]\ttraining's binary_error: 0.102771\ttraining's binary_logloss: 0.20371\tvalid_1's binary_error: 0.102345\tvalid_1's binary_logloss: 0.204676\n"
     ]
    },
    {
     "name": "stdout",
     "output_type": "stream",
     "text": [
      "[409]\ttraining's binary_error: 0.102737\ttraining's binary_logloss: 0.203665\tvalid_1's binary_error: 0.102359\tvalid_1's binary_logloss: 0.20464\n",
      "[410]\ttraining's binary_error: 0.102728\ttraining's binary_logloss: 0.203642\tvalid_1's binary_error: 0.102336\tvalid_1's binary_logloss: 0.204626\n",
      "[411]\ttraining's binary_error: 0.102744\ttraining's binary_logloss: 0.203625\tvalid_1's binary_error: 0.102354\tvalid_1's binary_logloss: 0.204625\n",
      "[412]\ttraining's binary_error: 0.102726\ttraining's binary_logloss: 0.203599\tvalid_1's binary_error: 0.10235\tvalid_1's binary_logloss: 0.204609\n",
      "[413]\ttraining's binary_error: 0.102715\ttraining's binary_logloss: 0.203588\tvalid_1's binary_error: 0.102345\tvalid_1's binary_logloss: 0.204611\n",
      "[414]\ttraining's binary_error: 0.102699\ttraining's binary_logloss: 0.20355\tvalid_1's binary_error: 0.102345\tvalid_1's binary_logloss: 0.204582\n",
      "[415]\ttraining's binary_error: 0.102659\ttraining's binary_logloss: 0.203462\tvalid_1's binary_error: 0.102359\tvalid_1's binary_logloss: 0.204498\n",
      "[416]\ttraining's binary_error: 0.102601\ttraining's binary_logloss: 0.203381\tvalid_1's binary_error: 0.102318\tvalid_1's binary_logloss: 0.204426\n",
      "[417]\ttraining's binary_error: 0.10257\ttraining's binary_logloss: 0.203341\tvalid_1's binary_error: 0.102291\tvalid_1's binary_logloss: 0.204389\n",
      "[418]\ttraining's binary_error: 0.102552\ttraining's binary_logloss: 0.20332\tvalid_1's binary_error: 0.102264\tvalid_1's binary_logloss: 0.204373\n",
      "[419]\ttraining's binary_error: 0.102543\ttraining's binary_logloss: 0.203281\tvalid_1's binary_error: 0.102246\tvalid_1's binary_logloss: 0.204347\n",
      "[420]\ttraining's binary_error: 0.102494\ttraining's binary_logloss: 0.203264\tvalid_1's binary_error: 0.102214\tvalid_1's binary_logloss: 0.204341\n",
      "[421]\ttraining's binary_error: 0.102427\ttraining's binary_logloss: 0.203164\tvalid_1's binary_error: 0.102101\tvalid_1's binary_logloss: 0.204248\n",
      "[422]\ttraining's binary_error: 0.102443\ttraining's binary_logloss: 0.203143\tvalid_1's binary_error: 0.102105\tvalid_1's binary_logloss: 0.204232\n",
      "[423]\ttraining's binary_error: 0.10242\ttraining's binary_logloss: 0.203107\tvalid_1's binary_error: 0.102105\tvalid_1's binary_logloss: 0.204204\n",
      "[424]\ttraining's binary_error: 0.102425\ttraining's binary_logloss: 0.20307\tvalid_1's binary_error: 0.10215\tvalid_1's binary_logloss: 0.204177\n",
      "[425]\ttraining's binary_error: 0.102429\ttraining's binary_logloss: 0.20304\tvalid_1's binary_error: 0.102218\tvalid_1's binary_logloss: 0.204154\n",
      "[426]\ttraining's binary_error: 0.102374\ttraining's binary_logloss: 0.203\tvalid_1's binary_error: 0.102205\tvalid_1's binary_logloss: 0.204122\n",
      "[427]\ttraining's binary_error: 0.102358\ttraining's binary_logloss: 0.202975\tvalid_1's binary_error: 0.102187\tvalid_1's binary_logloss: 0.204117\n",
      "[428]\ttraining's binary_error: 0.102333\ttraining's binary_logloss: 0.202953\tvalid_1's binary_error: 0.102205\tvalid_1's binary_logloss: 0.204108\n",
      "[429]\ttraining's binary_error: 0.102289\ttraining's binary_logloss: 0.202939\tvalid_1's binary_error: 0.102227\tvalid_1's binary_logloss: 0.204112\n",
      "[430]\ttraining's binary_error: 0.102262\ttraining's binary_logloss: 0.202915\tvalid_1's binary_error: 0.102227\tvalid_1's binary_logloss: 0.204097\n",
      "[431]\ttraining's binary_error: 0.102229\ttraining's binary_logloss: 0.202894\tvalid_1's binary_error: 0.102164\tvalid_1's binary_logloss: 0.204088\n",
      "[432]\ttraining's binary_error: 0.102235\ttraining's binary_logloss: 0.202844\tvalid_1's binary_error: 0.102123\tvalid_1's binary_logloss: 0.204045\n",
      "[433]\ttraining's binary_error: 0.102237\ttraining's binary_logloss: 0.202828\tvalid_1's binary_error: 0.102141\tvalid_1's binary_logloss: 0.204039\n",
      "[434]\ttraining's binary_error: 0.102249\ttraining's binary_logloss: 0.202815\tvalid_1's binary_error: 0.102155\tvalid_1's binary_logloss: 0.204037\n",
      "[435]\ttraining's binary_error: 0.102244\ttraining's binary_logloss: 0.202787\tvalid_1's binary_error: 0.102128\tvalid_1's binary_logloss: 0.204024\n",
      "[436]\ttraining's binary_error: 0.102235\ttraining's binary_logloss: 0.20275\tvalid_1's binary_error: 0.102169\tvalid_1's binary_logloss: 0.203997\n",
      "[437]\ttraining's binary_error: 0.10222\ttraining's binary_logloss: 0.202709\tvalid_1's binary_error: 0.10215\tvalid_1's binary_logloss: 0.203961\n",
      "[438]\ttraining's binary_error: 0.102179\ttraining's binary_logloss: 0.20268\tvalid_1's binary_error: 0.102155\tvalid_1's binary_logloss: 0.203942\n",
      "[439]\ttraining's binary_error: 0.102164\ttraining's binary_logloss: 0.202552\tvalid_1's binary_error: 0.102164\tvalid_1's binary_logloss: 0.20383\n",
      "[440]\ttraining's binary_error: 0.102148\ttraining's binary_logloss: 0.20253\tvalid_1's binary_error: 0.102169\tvalid_1's binary_logloss: 0.203837\n",
      "[441]\ttraining's binary_error: 0.102126\ttraining's binary_logloss: 0.202509\tvalid_1's binary_error: 0.102196\tvalid_1's binary_logloss: 0.203833\n",
      "[442]\ttraining's binary_error: 0.102099\ttraining's binary_logloss: 0.202459\tvalid_1's binary_error: 0.102178\tvalid_1's binary_logloss: 0.203793\n",
      "[443]\ttraining's binary_error: 0.102092\ttraining's binary_logloss: 0.202445\tvalid_1's binary_error: 0.102173\tvalid_1's binary_logloss: 0.203782\n",
      "[444]\ttraining's binary_error: 0.10207\ttraining's binary_logloss: 0.202431\tvalid_1's binary_error: 0.102141\tvalid_1's binary_logloss: 0.203769\n",
      "[445]\ttraining's binary_error: 0.102086\ttraining's binary_logloss: 0.202419\tvalid_1's binary_error: 0.10215\tvalid_1's binary_logloss: 0.203763\n",
      "[446]\ttraining's binary_error: 0.102075\ttraining's binary_logloss: 0.202408\tvalid_1's binary_error: 0.102146\tvalid_1's binary_logloss: 0.203765\n",
      "[447]\ttraining's binary_error: 0.102068\ttraining's binary_logloss: 0.202354\tvalid_1's binary_error: 0.102196\tvalid_1's binary_logloss: 0.203721\n",
      "[448]\ttraining's binary_error: 0.102092\ttraining's binary_logloss: 0.202324\tvalid_1's binary_error: 0.102155\tvalid_1's binary_logloss: 0.2037\n",
      "[449]\ttraining's binary_error: 0.10207\ttraining's binary_logloss: 0.202303\tvalid_1's binary_error: 0.102105\tvalid_1's binary_logloss: 0.203697\n",
      "[450]\ttraining's binary_error: 0.102014\ttraining's binary_logloss: 0.202183\tvalid_1's binary_error: 0.102119\tvalid_1's binary_logloss: 0.203589\n",
      "[451]\ttraining's binary_error: 0.101996\ttraining's binary_logloss: 0.202164\tvalid_1's binary_error: 0.102082\tvalid_1's binary_logloss: 0.203575\n",
      "[452]\ttraining's binary_error: 0.101956\ttraining's binary_logloss: 0.202144\tvalid_1's binary_error: 0.10206\tvalid_1's binary_logloss: 0.203566\n",
      "[453]\ttraining's binary_error: 0.101938\ttraining's binary_logloss: 0.202128\tvalid_1's binary_error: 0.102046\tvalid_1's binary_logloss: 0.203551\n",
      "[454]\ttraining's binary_error: 0.101921\ttraining's binary_logloss: 0.202115\tvalid_1's binary_error: 0.102046\tvalid_1's binary_logloss: 0.203551\n",
      "[455]\ttraining's binary_error: 0.101903\ttraining's binary_logloss: 0.202089\tvalid_1's binary_error: 0.102055\tvalid_1's binary_logloss: 0.203535\n",
      "[456]\ttraining's binary_error: 0.101898\ttraining's binary_logloss: 0.202073\tvalid_1's binary_error: 0.102064\tvalid_1's binary_logloss: 0.203527\n",
      "[457]\ttraining's binary_error: 0.101892\ttraining's binary_logloss: 0.202049\tvalid_1's binary_error: 0.102051\tvalid_1's binary_logloss: 0.203515\n",
      "[458]\ttraining's binary_error: 0.101907\ttraining's binary_logloss: 0.202007\tvalid_1's binary_error: 0.102051\tvalid_1's binary_logloss: 0.203485\n",
      "[459]\ttraining's binary_error: 0.101916\ttraining's binary_logloss: 0.201998\tvalid_1's binary_error: 0.102051\tvalid_1's binary_logloss: 0.203496\n",
      "[460]\ttraining's binary_error: 0.101885\ttraining's binary_logloss: 0.201982\tvalid_1's binary_error: 0.102046\tvalid_1's binary_logloss: 0.203496\n",
      "[461]\ttraining's binary_error: 0.101905\ttraining's binary_logloss: 0.201973\tvalid_1's binary_error: 0.102051\tvalid_1's binary_logloss: 0.203493\n",
      "[462]\ttraining's binary_error: 0.101856\ttraining's binary_logloss: 0.20191\tvalid_1's binary_error: 0.10201\tvalid_1's binary_logloss: 0.203438\n",
      "[463]\ttraining's binary_error: 0.101854\ttraining's binary_logloss: 0.201869\tvalid_1's binary_error: 0.101978\tvalid_1's binary_logloss: 0.203413\n",
      "[464]\ttraining's binary_error: 0.101847\ttraining's binary_logloss: 0.201856\tvalid_1's binary_error: 0.101987\tvalid_1's binary_logloss: 0.203402\n",
      "[465]\ttraining's binary_error: 0.101849\ttraining's binary_logloss: 0.201841\tvalid_1's binary_error: 0.101983\tvalid_1's binary_logloss: 0.203402\n",
      "[466]\ttraining's binary_error: 0.101825\ttraining's binary_logloss: 0.201799\tvalid_1's binary_error: 0.102005\tvalid_1's binary_logloss: 0.203369\n"
     ]
    },
    {
     "name": "stdout",
     "output_type": "stream",
     "text": [
      "[467]\ttraining's binary_error: 0.101807\ttraining's binary_logloss: 0.201778\tvalid_1's binary_error: 0.101987\tvalid_1's binary_logloss: 0.203367\n",
      "[468]\ttraining's binary_error: 0.101834\ttraining's binary_logloss: 0.20174\tvalid_1's binary_error: 0.102024\tvalid_1's binary_logloss: 0.20334\n",
      "[469]\ttraining's binary_error: 0.101831\ttraining's binary_logloss: 0.201732\tvalid_1's binary_error: 0.10201\tvalid_1's binary_logloss: 0.203343\n",
      "[470]\ttraining's binary_error: 0.101838\ttraining's binary_logloss: 0.20172\tvalid_1's binary_error: 0.101942\tvalid_1's binary_logloss: 0.203341\n",
      "[471]\ttraining's binary_error: 0.101827\ttraining's binary_logloss: 0.201677\tvalid_1's binary_error: 0.101987\tvalid_1's binary_logloss: 0.203306\n",
      "[472]\ttraining's binary_error: 0.1018\ttraining's binary_logloss: 0.201664\tvalid_1's binary_error: 0.101965\tvalid_1's binary_logloss: 0.203302\n",
      "[473]\ttraining's binary_error: 0.101753\ttraining's binary_logloss: 0.201599\tvalid_1's binary_error: 0.101946\tvalid_1's binary_logloss: 0.203247\n",
      "[474]\ttraining's binary_error: 0.101744\ttraining's binary_logloss: 0.201561\tvalid_1's binary_error: 0.101906\tvalid_1's binary_logloss: 0.203223\n",
      "[475]\ttraining's binary_error: 0.101751\ttraining's binary_logloss: 0.201541\tvalid_1's binary_error: 0.101946\tvalid_1's binary_logloss: 0.203219\n",
      "[476]\ttraining's binary_error: 0.101751\ttraining's binary_logloss: 0.201513\tvalid_1's binary_error: 0.10196\tvalid_1's binary_logloss: 0.203207\n",
      "[477]\ttraining's binary_error: 0.101758\ttraining's binary_logloss: 0.201498\tvalid_1's binary_error: 0.101951\tvalid_1's binary_logloss: 0.203204\n",
      "[478]\ttraining's binary_error: 0.101751\ttraining's binary_logloss: 0.201471\tvalid_1's binary_error: 0.10196\tvalid_1's binary_logloss: 0.20319\n",
      "[479]\ttraining's binary_error: 0.101657\ttraining's binary_logloss: 0.20139\tvalid_1's binary_error: 0.101906\tvalid_1's binary_logloss: 0.203118\n",
      "[480]\ttraining's binary_error: 0.101671\ttraining's binary_logloss: 0.201315\tvalid_1's binary_error: 0.101865\tvalid_1's binary_logloss: 0.203046\n",
      "[481]\ttraining's binary_error: 0.101666\ttraining's binary_logloss: 0.201302\tvalid_1's binary_error: 0.10186\tvalid_1's binary_logloss: 0.203043\n",
      "[482]\ttraining's binary_error: 0.10168\ttraining's binary_logloss: 0.201248\tvalid_1's binary_error: 0.101824\tvalid_1's binary_logloss: 0.202996\n",
      "[483]\ttraining's binary_error: 0.101644\ttraining's binary_logloss: 0.201217\tvalid_1's binary_error: 0.101842\tvalid_1's binary_logloss: 0.202973\n",
      "[484]\ttraining's binary_error: 0.101646\ttraining's binary_logloss: 0.2012\tvalid_1's binary_error: 0.101869\tvalid_1's binary_logloss: 0.20297\n",
      "[485]\ttraining's binary_error: 0.101606\ttraining's binary_logloss: 0.201177\tvalid_1's binary_error: 0.101824\tvalid_1's binary_logloss: 0.20295\n",
      "[486]\ttraining's binary_error: 0.101581\ttraining's binary_logloss: 0.201141\tvalid_1's binary_error: 0.101842\tvalid_1's binary_logloss: 0.202928\n",
      "[487]\ttraining's binary_error: 0.101555\ttraining's binary_logloss: 0.201101\tvalid_1's binary_error: 0.101797\tvalid_1's binary_logloss: 0.202906\n",
      "[488]\ttraining's binary_error: 0.101561\ttraining's binary_logloss: 0.201084\tvalid_1's binary_error: 0.101802\tvalid_1's binary_logloss: 0.202902\n",
      "[489]\ttraining's binary_error: 0.101541\ttraining's binary_logloss: 0.201035\tvalid_1's binary_error: 0.101811\tvalid_1's binary_logloss: 0.20287\n",
      "[490]\ttraining's binary_error: 0.101541\ttraining's binary_logloss: 0.200991\tvalid_1's binary_error: 0.101851\tvalid_1's binary_logloss: 0.202838\n",
      "[491]\ttraining's binary_error: 0.10155\ttraining's binary_logloss: 0.200944\tvalid_1's binary_error: 0.101856\tvalid_1's binary_logloss: 0.2028\n",
      "[492]\ttraining's binary_error: 0.101543\ttraining's binary_logloss: 0.200921\tvalid_1's binary_error: 0.101829\tvalid_1's binary_logloss: 0.202783\n",
      "[493]\ttraining's binary_error: 0.101543\ttraining's binary_logloss: 0.200907\tvalid_1's binary_error: 0.101811\tvalid_1's binary_logloss: 0.202786\n",
      "[494]\ttraining's binary_error: 0.101546\ttraining's binary_logloss: 0.200891\tvalid_1's binary_error: 0.101802\tvalid_1's binary_logloss: 0.202781\n",
      "[495]\ttraining's binary_error: 0.101539\ttraining's binary_logloss: 0.200877\tvalid_1's binary_error: 0.101774\tvalid_1's binary_logloss: 0.202776\n",
      "[496]\ttraining's binary_error: 0.101492\ttraining's binary_logloss: 0.200831\tvalid_1's binary_error: 0.10177\tvalid_1's binary_logloss: 0.202733\n",
      "[497]\ttraining's binary_error: 0.101494\ttraining's binary_logloss: 0.200786\tvalid_1's binary_error: 0.101788\tvalid_1's binary_logloss: 0.20269\n",
      "[498]\ttraining's binary_error: 0.101492\ttraining's binary_logloss: 0.200759\tvalid_1's binary_error: 0.101806\tvalid_1's binary_logloss: 0.202669\n",
      "[499]\ttraining's binary_error: 0.101474\ttraining's binary_logloss: 0.200739\tvalid_1's binary_error: 0.10182\tvalid_1's binary_logloss: 0.202659\n",
      "[500]\ttraining's binary_error: 0.101492\ttraining's binary_logloss: 0.200708\tvalid_1's binary_error: 0.10182\tvalid_1's binary_logloss: 0.202627\n",
      "Did not meet early stopping. Best iteration is:\n",
      "[499]\ttraining's binary_error: 0.101474\ttraining's binary_logloss: 0.200739\tvalid_1's binary_error: 0.10182\tvalid_1's binary_logloss: 0.202659\n"
     ]
    },
    {
     "data": {
      "text/plain": [
       "LGBMClassifier(boosting_type='goss', colsample_bytree=0.7, learning_rate=0.06,\n",
       "               max_depth=50, min_data_in_leaf=55, n_estimators=500,\n",
       "               objective='binary', random_state=42, reg_alpha=1.6,\n",
       "               reg_lambda=1.1, subsample=0.7)"
      ]
     },
     "execution_count": 216,
     "metadata": {},
     "output_type": "execute_result"
    }
   ],
   "source": [
    "clf.fit(X_train,y_train,early_stopping_rounds=100,eval_set=[(X_train,y_train),(X_test,y_test)],eval_metric='multi_error',verbose=True,categorical_feature=['Driving_License','Previously_Insured','Vehicle_Age','No', 'Yes', 'Female', 'Male'])"
   ]
  },
  {
   "cell_type": "code",
   "execution_count": 217,
   "metadata": {},
   "outputs": [],
   "source": [
    "proba_lgb=clf.predict_proba(df_test.drop('Response',axis=1))"
   ]
  },
  {
   "cell_type": "code",
   "execution_count": 224,
   "metadata": {},
   "outputs": [],
   "source": [
    "abc=proba_lgb[:,1:].reshape((127037,))"
   ]
  },
  {
   "cell_type": "code",
   "execution_count": 225,
   "metadata": {},
   "outputs": [],
   "source": [
    "sample_sub['Response']=abc"
   ]
  },
  {
   "cell_type": "code",
   "execution_count": 227,
   "metadata": {},
   "outputs": [],
   "source": [
    "#sample_sub.to_csv('LGB.csv',index=False)"
   ]
  },
  {
   "cell_type": "markdown",
   "metadata": {},
   "source": [
    "# Bayesian Optimization"
   ]
  },
  {
   "cell_type": "code",
   "execution_count": 242,
   "metadata": {},
   "outputs": [],
   "source": [
    "#from sklearn.ensemble import RandomForestClassifier"
   ]
  },
  {
   "cell_type": "code",
   "execution_count": 243,
   "metadata": {},
   "outputs": [],
   "source": [
    "#forest_clf=RandomForestClassifier()"
   ]
  },
  {
   "cell_type": "code",
   "execution_count": 2,
   "metadata": {},
   "outputs": [
    {
     "data": {
      "text/plain": [
       "'\\nfrom skopt import BayesSearchCV\\nfrom skopt.space import Real, Categorical, Integer\\n\\nsearch_space = {\"bootstrap\": Categorical([True, False]), # values for boostrap can be either True or False\\n        \"max_depth\": Integer(6, 20), # values of max_depth are integers from 6 to 20\\n        \"max_features\": Categorical([\\'auto\\', \\'sqrt\\',\\'log2\\']), \\n        \"min_samples_leaf\": Integer(2, 10),\\n        \"min_samples_split\": Integer(2, 10),\\n        \"n_estimators\": Integer(100, 500)\\n    }\\n\\ndef on_step(optim_result):\\n    \"\"\"\\n    Callback meant to view scores after\\n    each iteration while performing Bayesian\\n    Optimization in Skopt\"\"\"\\n    score = forest_bayes_search.best_score_\\n    print(\"best score: %s\" % score)\\n    if score >= 0.87:\\n        print(\\'Interrupting!\\')\\n        return True\\n\\n'"
      ]
     },
     "execution_count": 2,
     "metadata": {},
     "output_type": "execute_result"
    }
   ],
   "source": [
    "'''\n",
    "from skopt import BayesSearchCV\n",
    "from skopt.space import Real, Categorical, Integer\n",
    "\n",
    "search_space = {\"bootstrap\": Categorical([True, False]), # values for boostrap can be either True or False\n",
    "        \"max_depth\": Integer(6, 20), # values of max_depth are integers from 6 to 20\n",
    "        \"max_features\": Categorical(['auto', 'sqrt','log2']), \n",
    "        \"min_samples_leaf\": Integer(2, 10),\n",
    "        \"min_samples_split\": Integer(2, 10),\n",
    "        \"n_estimators\": Integer(100, 500)\n",
    "    }\n",
    "\n",
    "def on_step(optim_result):\n",
    "    \"\"\"\n",
    "    Callback meant to view scores after\n",
    "    each iteration while performing Bayesian\n",
    "    Optimization in Skopt\"\"\"\n",
    "    score = forest_bayes_search.best_score_\n",
    "    print(\"best score: %s\" % score)\n",
    "    if score >= 0.87:\n",
    "        print('Interrupting!')\n",
    "        return True\n",
    "\n",
    "'''"
   ]
  },
  {
   "cell_type": "code",
   "execution_count": 3,
   "metadata": {},
   "outputs": [],
   "source": [
    "#forest_bayes_search = BayesSearchCV(forest_clf, search_space, n_iter=32,scoring=\"accuracy\", n_jobs=-1, cv=5)"
   ]
  },
  {
   "cell_type": "code",
   "execution_count": null,
   "metadata": {},
   "outputs": [
    {
     "name": "stdout",
     "output_type": "stream",
     "text": [
      "best score: 0.864131186759921\n"
     ]
    },
    {
     "name": "stderr",
     "output_type": "stream",
     "text": [
      "C:\\Users\\Rajneesh\\Anaconda3\\lib\\site-packages\\joblib\\externals\\loky\\process_executor.py:706: UserWarning: A worker stopped while some jobs were given to the executor. This can be caused by a too short worker timeout or by a memory leak.\n",
      "  \"timeout or by a memory leak.\", UserWarning\n"
     ]
    },
    {
     "name": "stdout",
     "output_type": "stream",
     "text": [
      "best score: 0.864131186759921\n",
      "best score: 0.864131186759921\n"
     ]
    }
   ],
   "source": [
    "#forest_bayes_search.fit(X_train, y_train, callback=on_step) # callback=on_step will print score after each iteration"
   ]
  },
  {
   "cell_type": "code",
   "execution_count": null,
   "metadata": {},
   "outputs": [],
   "source": []
  },
  {
   "cell_type": "code",
   "execution_count": null,
   "metadata": {},
   "outputs": [],
   "source": []
  },
  {
   "cell_type": "code",
   "execution_count": null,
   "metadata": {},
   "outputs": [],
   "source": []
  },
  {
   "cell_type": "code",
   "execution_count": null,
   "metadata": {},
   "outputs": [],
   "source": []
  }
 ],
 "metadata": {
  "kernelspec": {
   "display_name": "Python 3",
   "language": "python",
   "name": "python3"
  },
  "language_info": {
   "codemirror_mode": {
    "name": "ipython",
    "version": 3
   },
   "file_extension": ".py",
   "mimetype": "text/x-python",
   "name": "python",
   "nbconvert_exporter": "python",
   "pygments_lexer": "ipython3",
   "version": "3.7.4"
  }
 },
 "nbformat": 4,
 "nbformat_minor": 2
}
